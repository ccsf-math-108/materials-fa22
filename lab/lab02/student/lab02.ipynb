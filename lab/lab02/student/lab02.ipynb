{
 "cells": [
  {
   "cell_type": "code",
   "execution_count": null,
   "id": "2b61cbc7",
   "metadata": {
    "deletable": false,
    "editable": false
   },
   "outputs": [],
   "source": [
    "# Initialize Otter\n",
    "import otter\n",
    "grader = otter.Notebook(\"lab02.ipynb\")"
   ]
  },
  {
   "cell_type": "markdown",
   "id": "196894e1",
   "metadata": {
    "tags": []
   },
   "source": [
    "<img style=\"display: block; margin-left: auto; margin-right: auto\" src=\"./ccsf-logo.png\" width=\"250rem;\" alt=\"The CCSF black and white logo\">"
   ]
  },
  {
   "cell_type": "markdown",
   "id": "076ada11",
   "metadata": {},
   "source": [
    "<div style=\"text-align: center;\">\n",
    "    <h1>Lab 02 - Expressions</h1>\n",
    "    <em>View the related <a href=\"https://ccsf.instructure.com\" target=\"_blank\">Canvas</a> Assignment page for additional details.</em>\n",
    "</div>"
   ]
  },
  {
   "cell_type": "markdown",
   "id": "7c71922d",
   "metadata": {
    "tags": []
   },
   "source": [
    "## Textbook Reference"
   ]
  },
  {
   "cell_type": "markdown",
   "id": "12a2ff52",
   "metadata": {},
   "source": [
    "Consider reading through [Textbook Sections 3.0 - 3.3](https://inferentialthinking.com/chapters/03/programming-in-python.html) in the course textbook. --- _Note that you were not assigned to read this material in this module, but you will read these sections in more detail later in the course._"
   ]
  },
  {
   "cell_type": "markdown",
   "id": "9fcd3c01",
   "metadata": {},
   "source": [
    "## Otter Reminder"
   ]
  },
  {
   "cell_type": "markdown",
   "id": "0f50000c",
   "metadata": {},
   "source": [
    "<img style=\"display: block; margin-left: auto; margin-right: auto\" src=\"otter-logo-smaller.png\" alt=\"Otter-Grader's logo\" width=\"100rem;\">\n",
    "\n",
    "Remember that your assignment notebooks use an auto-grader called Otter. In order to use that grader, you need to make sure to run the cell that configures Otter for this assignment. If you see the error `NameError: name 'grader' is not defined` later on, than that means that you need to run the code cell at the top of the notebook that initializes otter."
   ]
  },
  {
   "cell_type": "markdown",
   "id": "064a70b8",
   "metadata": {
    "tags": []
   },
   "source": [
    "## Expressions"
   ]
  },
  {
   "cell_type": "markdown",
   "id": "d400158e",
   "metadata": {
    "tags": []
   },
   "source": [
    "The fundamental building blocks of Python code are expressions. In these notebooks, cells can contain multiple lines with multiple expressions. When you run a cell, the lines of code are executed in the order in which they appear. Every `print` statement prints a line. Run the next cell and notice the order of the output."
   ]
  },
  {
   "cell_type": "code",
   "execution_count": null,
   "id": "e03e1456",
   "metadata": {
    "execution": {
     "iopub.execute_input": "2022-08-26T18:04:49.275307Z",
     "iopub.status.busy": "2022-08-26T18:04:49.274483Z",
     "iopub.status.idle": "2022-08-26T18:04:49.283632Z",
     "shell.execute_reply": "2022-08-26T18:04:49.282756Z"
    }
   },
   "outputs": [],
   "source": [
    "print(\"First this line is printed,\")\n",
    "print(\"and then this one.\")"
   ]
  },
  {
   "cell_type": "markdown",
   "id": "cf3c295a",
   "metadata": {},
   "source": [
    "### Numbers"
   ]
  },
  {
   "cell_type": "markdown",
   "id": "5c70b2a6",
   "metadata": {},
   "source": [
    "Quantitative information arises everywhere in Data Science. In addition to representing commands to print out lines, expressions can represent numbers and methods of combining numbers. The expression `3.2500` evaluates to the number `3.25`. Run the cell and see the result."
   ]
  },
  {
   "cell_type": "code",
   "execution_count": null,
   "id": "8afdc4c4",
   "metadata": {
    "execution": {
     "iopub.execute_input": "2022-08-26T18:04:49.287435Z",
     "iopub.status.busy": "2022-08-26T18:04:49.287110Z",
     "iopub.status.idle": "2022-08-26T18:04:49.301134Z",
     "shell.execute_reply": "2022-08-26T18:04:49.299962Z"
    }
   },
   "outputs": [],
   "source": [
    "3.2500"
   ]
  },
  {
   "cell_type": "markdown",
   "id": "c90a1300",
   "metadata": {},
   "source": [
    "Notice that we didn't have to `print`. When you run a notebook cell, if the last line has a value, then Jupyter helpfully prints out that value for you. However, it won't print out prior lines automatically."
   ]
  },
  {
   "cell_type": "code",
   "execution_count": null,
   "id": "fbc86f9b",
   "metadata": {
    "execution": {
     "iopub.execute_input": "2022-08-26T18:04:49.305108Z",
     "iopub.status.busy": "2022-08-26T18:04:49.304803Z",
     "iopub.status.idle": "2022-08-26T18:04:49.311210Z",
     "shell.execute_reply": "2022-08-26T18:04:49.310273Z"
    }
   },
   "outputs": [],
   "source": [
    "print(2)\n",
    "3\n",
    "4"
   ]
  },
  {
   "cell_type": "markdown",
   "id": "25fc80bd",
   "metadata": {},
   "source": [
    "Above, you should see that 4 is the value of the last expression, 2 is printed, but 3 is lost forever because it was neither printed nor last.\n",
    "\n",
    "You don't want to print everything all the time anyway.  But if you feel sorry for 3, change the cell above to print it."
   ]
  },
  {
   "cell_type": "markdown",
   "id": "c8a88948",
   "metadata": {},
   "source": [
    "### Arithmetic Expressions"
   ]
  },
  {
   "cell_type": "markdown",
   "id": "fd9b36a9",
   "metadata": {},
   "source": [
    "The line in the next cell subtracts.  Its value is what you'd expect.  Run it to see the result."
   ]
  },
  {
   "cell_type": "code",
   "execution_count": null,
   "id": "7f67bd85",
   "metadata": {
    "execution": {
     "iopub.execute_input": "2022-08-26T18:04:49.315659Z",
     "iopub.status.busy": "2022-08-26T18:04:49.315314Z",
     "iopub.status.idle": "2022-08-26T18:04:49.321184Z",
     "shell.execute_reply": "2022-08-26T18:04:49.320284Z"
    }
   },
   "outputs": [],
   "source": [
    "3.25 - 1.5"
   ]
  },
  {
   "cell_type": "markdown",
   "id": "0ff8e3f5",
   "metadata": {},
   "source": [
    "Many basic arithmetic operations are built into Python.  The textbook section on [Expressions](http://www.inferentialthinking.com/chapters/03/1/Expressions.html) describes all the arithmetic operators used in the course.  The common operator that differs from typical math notation is `**`, which raises one number to the power of the other. So, `2 ** 3` stands for $2^3$ and evaluates to 8. "
   ]
  },
  {
   "cell_type": "markdown",
   "id": "af8f0d36",
   "metadata": {},
   "source": [
    "#### Order of Operations"
   ]
  },
  {
   "cell_type": "markdown",
   "id": "2ca74484",
   "metadata": {},
   "source": [
    "The [order of operations](https://en.wikipedia.org/wiki/Order_of_operations) is the same as what you learned in previous courses. Python also has parentheses to group operations.  For example, compare the outputs of the two cells below that contain the same numbers. The first cell uses parentheses to show 2022, but the second cell produces a different number because of the lack of parentheses!"
   ]
  },
  {
   "cell_type": "code",
   "execution_count": null,
   "id": "b4f9c2ff",
   "metadata": {
    "execution": {
     "iopub.execute_input": "2022-08-26T18:04:49.325914Z",
     "iopub.status.busy": "2022-08-26T18:04:49.325247Z",
     "iopub.status.idle": "2022-08-26T18:04:49.331282Z",
     "shell.execute_reply": "2022-08-26T18:04:49.330166Z"
    },
    "tags": []
   },
   "outputs": [],
   "source": [
    "6 + (6 * 5 - (6 * 3)) ** 2 * ((2 ** 3) / 4 * 7)"
   ]
  },
  {
   "cell_type": "code",
   "execution_count": null,
   "id": "22920654",
   "metadata": {
    "execution": {
     "iopub.execute_input": "2022-08-26T18:04:49.335296Z",
     "iopub.status.busy": "2022-08-26T18:04:49.334456Z",
     "iopub.status.idle": "2022-08-26T18:04:49.340207Z",
     "shell.execute_reply": "2022-08-26T18:04:49.339353Z"
    }
   },
   "outputs": [],
   "source": [
    "6 + 6 * 5 - 6 * 3 ** 2 * 2 ** 3 / 4 * 7"
   ]
  },
  {
   "cell_type": "markdown",
   "id": "fb5043c8",
   "metadata": {},
   "source": [
    "In common Mathematics notation, the first expression is\n",
    "\n",
    "$$6 + 6 \\times 5 - 6 \\times 3^2 \\times \\frac{2^3}{4} \\times 7,$$\n",
    "\n",
    "while the second expression is\n",
    "\n",
    "$$6 + \\left(6 \\times 5 - (6 \\times 3)\\right)^2 \\times \\left(\\frac{\\left(2^3\\right)}{4} \\times 7\\right).$$"
   ]
  },
  {
   "cell_type": "markdown",
   "id": "8d48fda9",
   "metadata": {},
   "source": [
    "#### Task 1 📍🔎"
   ]
  },
  {
   "cell_type": "markdown",
   "id": "7410dd8f",
   "metadata": {
    "jp-MarkdownHeadingCollapsed": true,
    "tags": []
   },
   "source": [
    "<!-- BEGIN QUESTION -->\n",
    "\n",
    "Write a Python expression in this next cell that's equal to \n",
    "\n",
    "$$5 \\times \\left(3 \\frac{10}{11}\\right) - 50 \\frac{1}{3} + 2^{\\left(0.5 \\times 22\\right)} - \\frac{7}{33} + 5.$$  \n",
    "\n",
    "That's five times three and ten elevenths, minus fifty and a third, plus two to the power of half twenty-two, minus seven thirty-thirds plus five.  As a reminder, $3 \\frac{10}{11}$ means $3+\\frac{10}{11}$, not $3 \\times \\frac{10}{11}$.\n",
    "\n",
    "Replace the ellipses (`...`) with your expression.  Try to use parentheses only when necessary."
   ]
  },
  {
   "cell_type": "code",
   "execution_count": null,
   "id": "22639b4f",
   "metadata": {
    "execution": {
     "iopub.execute_input": "2022-08-26T18:04:49.344004Z",
     "iopub.status.busy": "2022-08-26T18:04:49.343702Z",
     "iopub.status.idle": "2022-08-26T18:04:49.349471Z",
     "shell.execute_reply": "2022-08-26T18:04:49.348651Z"
    },
    "tags": []
   },
   "outputs": [],
   "source": [
    "..."
   ]
  },
  {
   "cell_type": "markdown",
   "id": "dd8dc54b",
   "metadata": {},
   "source": [
    "<!-- END QUESTION -->\n",
    "\n",
    "## Names and Assignment Statements"
   ]
  },
  {
   "cell_type": "markdown",
   "id": "1819f23f",
   "metadata": {},
   "source": [
    "In natural language, we have terminology that lets us quickly reference very complicated concepts.  We don't say, \"That's a large mammal with brown fur and sharp teeth!\"  Instead, we might say, \"That's a bear!\"\n",
    "\n",
    "In Python, we do a similar thing using _assignment statements_. An assignment statement has a name on the left side of an `=` sign and an expression to be evaluated on the right. Run the next cell that contains an assignment statement."
   ]
  },
  {
   "cell_type": "code",
   "execution_count": null,
   "id": "991324da",
   "metadata": {
    "execution": {
     "iopub.execute_input": "2022-08-26T18:04:49.353582Z",
     "iopub.status.busy": "2022-08-26T18:04:49.353027Z",
     "iopub.status.idle": "2022-08-26T18:04:49.356964Z",
     "shell.execute_reply": "2022-08-26T18:04:49.356081Z"
    }
   },
   "outputs": [],
   "source": [
    "ten = 3 * 2 + 4"
   ]
  },
  {
   "cell_type": "markdown",
   "id": "35f5c609",
   "metadata": {},
   "source": [
    "When you run that cell, Python first computes the value of the expression on the right-hand side, `3 * 2 + 4`, which is the number 10.  Then it assigns that value to the name `ten`.  At that point, the code in the cell is done running. It can be a little subtle to know if a code cell that contains an assignment statement has being executed. Don't forget that the number in `[...]: ` let's us know that the cell has been run. After running that cell, the value 10 is bound to the name `ten`. Take a look by running the next cell."
   ]
  },
  {
   "cell_type": "code",
   "execution_count": null,
   "id": "4b2e9113",
   "metadata": {
    "execution": {
     "iopub.execute_input": "2022-08-26T18:04:49.360459Z",
     "iopub.status.busy": "2022-08-26T18:04:49.360184Z",
     "iopub.status.idle": "2022-08-26T18:04:49.365486Z",
     "shell.execute_reply": "2022-08-26T18:04:49.364584Z"
    }
   },
   "outputs": [],
   "source": [
    "ten"
   ]
  },
  {
   "cell_type": "markdown",
   "id": "d791f49b",
   "metadata": {},
   "source": [
    "The statement `ten = 3 * 2 + 4` is not asserting that `ten` is already equal to `3 * 2 + 4`. Rather, that line of code changes what `ten` means; it now refers to the value 10, whereas before it meant nothing at all. If the designers of Python had been ruthlessly pedantic, they might have made us write\n",
    "\n",
    "    define the name ten to hereafter have the value of 3 * 2 + 4 \n",
    "\n",
    "instead.  You will probably appreciate the brevity of \"`=`\"!  But keep that more long-winded expression in mind as you work with assignment statements."
   ]
  },
  {
   "cell_type": "markdown",
   "id": "b60fdc13",
   "metadata": {},
   "source": [
    "#### Task 2 📍"
   ]
  },
  {
   "cell_type": "markdown",
   "id": "ccae3205",
   "metadata": {},
   "source": [
    "Replace the `...` in the following cell with an assignment statement where the name is `eleven` and the expression is any arithmetic expression that has a value of 11."
   ]
  },
  {
   "cell_type": "code",
   "execution_count": null,
   "id": "7f9405e1",
   "metadata": {
    "execution": {
     "iopub.execute_input": "2022-08-26T18:04:49.369691Z",
     "iopub.status.busy": "2022-08-26T18:04:49.369353Z",
     "iopub.status.idle": "2022-08-26T18:04:49.373909Z",
     "shell.execute_reply": "2022-08-26T18:04:49.372771Z"
    },
    "tags": []
   },
   "outputs": [],
   "source": [
    "eleven = ..."
   ]
  },
  {
   "cell_type": "code",
   "execution_count": null,
   "id": "d939f554",
   "metadata": {
    "deletable": false,
    "editable": false
   },
   "outputs": [],
   "source": [
    "grader.check(\"task_2\")"
   ]
  },
  {
   "cell_type": "markdown",
   "id": "ba8882fc",
   "metadata": {},
   "source": [
    "A common pattern in Jupyter notebooks is to assign a value to a name and then immediately evaluate the name in the last line in the cell so that the value is displayed as output. This is demonstrated in the following cell."
   ]
  },
  {
   "cell_type": "code",
   "execution_count": null,
   "id": "485add69",
   "metadata": {
    "execution": {
     "iopub.execute_input": "2022-08-26T18:04:49.399679Z",
     "iopub.status.busy": "2022-08-26T18:04:49.399373Z",
     "iopub.status.idle": "2022-08-26T18:04:49.404684Z",
     "shell.execute_reply": "2022-08-26T18:04:49.403828Z"
    }
   },
   "outputs": [],
   "source": [
    "close_to_pi = 355 / 113\n",
    "close_to_pi"
   ]
  },
  {
   "cell_type": "markdown",
   "id": "eb655e88",
   "metadata": {},
   "source": [
    "Another common pattern is that a series of lines in a single cell will build up a complex computation in stages, naming the intermediate results. We encourage this type of thinking in this class! The next cell shows you an example."
   ]
  },
  {
   "cell_type": "code",
   "execution_count": null,
   "id": "e3e3880e",
   "metadata": {
    "execution": {
     "iopub.execute_input": "2022-08-26T18:04:49.408394Z",
     "iopub.status.busy": "2022-08-26T18:04:49.408115Z",
     "iopub.status.idle": "2022-08-26T18:04:49.414044Z",
     "shell.execute_reply": "2022-08-26T18:04:49.413177Z"
    },
    "tags": []
   },
   "outputs": [],
   "source": [
    "semimonthly_salary = 841.25\n",
    "monthly_salary = 2 * semimonthly_salary\n",
    "number_of_months_in_a_year = 12\n",
    "yearly_salary = number_of_months_in_a_year * monthly_salary\n",
    "yearly_salary"
   ]
  },
  {
   "cell_type": "markdown",
   "id": "16c503ef",
   "metadata": {},
   "source": [
    "Names in Python can have letters (upper- and lower-case letters are both okay and count as different letters), underscores, and numbers.  The first character can't be a number (otherwise a name might look like a number).  And names can't contain spaces, since spaces are used to separate pieces of code from each other.\n",
    "\n",
    "Other than those rules, what you name something doesn't matter *to Python*.  For example, this cell does the same thing as the above cell, except everything has a different name. **However**, names are very important for making your code *readable* to yourself and others.  The cell above is shorter, but it's totally useless without an explanation of what it does."
   ]
  },
  {
   "cell_type": "code",
   "execution_count": null,
   "id": "b1289b7b",
   "metadata": {
    "execution": {
     "iopub.execute_input": "2022-08-26T18:04:49.417867Z",
     "iopub.status.busy": "2022-08-26T18:04:49.417101Z",
     "iopub.status.idle": "2022-08-26T18:04:49.423358Z",
     "shell.execute_reply": "2022-08-26T18:04:49.422597Z"
    }
   },
   "outputs": [],
   "source": [
    "a = 841.25\n",
    "b = 2 * a\n",
    "c = 12\n",
    "d = c * b\n",
    "d"
   ]
  },
  {
   "cell_type": "markdown",
   "id": "98af6d5c",
   "metadata": {},
   "source": [
    "It is common for some people in the course to ask about style in terms of writing code. It helps to follow common style pattern when you are collaborating with others. PEP 8 is the style guide outlined in the Python documentation. That guide contains a lot of advanced vocabulary, but you should check out [the PEP 8 section Naming Conventions](https://peps.python.org/pep-0008/#naming-conventions) if you plan to work with Python beyond this course."
   ]
  },
  {
   "cell_type": "markdown",
   "id": "fff804ca",
   "metadata": {},
   "source": [
    "### Task 3 📍"
   ]
  },
  {
   "cell_type": "markdown",
   "id": "df527355",
   "metadata": {
    "tags": []
   },
   "source": [
    "Consider the time interval between midnight January 1, 2012 and midnight January 1, 2022. We will guide you to calculating the number of seconds in this particular decade using descriptive variable names and intermediate steps.\n",
    "\n",
    "For this task,\n",
    " 1. Assign `number_of_days` to be the total number of days in the above time interval. Note that there are three leap years in this span of this particular decade (2012, 2016, 2020). A non-leap year has 365 days and a leap year has 366 days. \n",
    " 2. Using `number_of_days`, assign the name `seconds_per_decade` to the number of seconds between midnight January 1, 2012 and midnight January 1, 2022. You are welcome to define and use more intermediate variables such as `hours_per_day` in the calculation of `seconds_per_decade`."
   ]
  },
  {
   "cell_type": "code",
   "execution_count": null,
   "id": "17a66a93",
   "metadata": {
    "execution": {
     "iopub.execute_input": "2022-08-26T18:04:49.427891Z",
     "iopub.status.busy": "2022-08-26T18:04:49.427112Z",
     "iopub.status.idle": "2022-08-26T18:04:49.433044Z",
     "shell.execute_reply": "2022-08-26T18:04:49.432297Z"
    },
    "tags": []
   },
   "outputs": [],
   "source": [
    "number_of_days = ...\n",
    "seconds_per_decade = ...\n",
    "seconds_per_decade"
   ]
  },
  {
   "cell_type": "code",
   "execution_count": null,
   "id": "af5792b1",
   "metadata": {
    "deletable": false,
    "editable": false
   },
   "outputs": [],
   "source": [
    "grader.check(\"task_3\")"
   ]
  },
  {
   "cell_type": "markdown",
   "id": "60d3b342",
   "metadata": {},
   "source": [
    "## Comments"
   ]
  },
  {
   "cell_type": "markdown",
   "id": "50b0032d",
   "metadata": {},
   "source": [
    "You may have noticed the first line in the code cell that initializes Otter at the top of the notebook:\n",
    "\n",
    "    # Initialize Otter\n",
    "    \n",
    "This is called a *comment*. It doesn't make anything happen in Python; Python ignores anything on a line after a `#`.  Instead, it's there to communicate something about the code to you, the human. Comments are extremely useful, but keep them to a minimum when using notebooks. Instead, utilize the Markdown cells to explain what your code is doing.\n",
    "\n",
    "<img src=\"http://imgs.xkcd.com/comics/future_self.png\" alt=\"A comic showing a conversation between a programmer and their future self through comments.\">\n",
    "Image Source: <a href=\"http://imgs.xkcd.com/comics/future_self.png\">imgs.xkcd.com</a>"
   ]
  },
  {
   "cell_type": "markdown",
   "id": "37994170",
   "metadata": {},
   "source": [
    "## A Physics Experiment"
   ]
  },
  {
   "cell_type": "markdown",
   "id": "d07c4aa4",
   "metadata": {},
   "source": [
    "On the Apollo 15 mission to the Moon, astronaut David Scott famously replicated Galileo's physics experiment in which he showed that gravity accelerates objects of different mass at the same rate. Because there is no air resistance for a falling object on the surface of the Moon, even two objects with very different masses and densities should fall at the same rate. David Scott compared a feather and a hammer.\n",
    "\n",
    "Run the following cell to watch a video of the experiment."
   ]
  },
  {
   "cell_type": "code",
   "execution_count": null,
   "id": "fd561a79",
   "metadata": {
    "execution": {
     "iopub.execute_input": "2022-08-26T18:04:49.470924Z",
     "iopub.status.busy": "2022-08-26T18:04:49.470549Z",
     "iopub.status.idle": "2022-08-26T18:04:49.551773Z",
     "shell.execute_reply": "2022-08-26T18:04:49.550795Z"
    }
   },
   "outputs": [],
   "source": [
    "from IPython.display import YouTubeVideo\n",
    "# The original URL is: \n",
    "# https://www.youtube.com/watch?v=U7db6ZeLR5s\n",
    "\n",
    "YouTubeVideo(\"U7db6ZeLR5s\")"
   ]
  },
  {
   "cell_type": "markdown",
   "id": "184e8b32",
   "metadata": {},
   "source": [
    "Here's the transcript of what was said in the original video:\n",
    "\n",
    "**167:22:06 Scott**: Well, in my left hand, I have a feather; in my right hand, a hammer. And I guess one of the reasons we got here today was because of a gentleman named Galileo, a long time ago, who made a rather significant discovery about falling objects in gravity fields. And we thought where would be a better place to confirm his findings than on the Moon. And so we thought we'd try it here for you. The feather happens to be, appropriately, a falcon feather for our Falcon. And I'll drop the two of them here and, hopefully, they'll hit the ground at the same time. \n",
    "\n",
    "**167:22:43 Scott**: How about that!\n",
    "\n",
    "**167:22:45 Allen**: How about that! (Applause in Houston)\n",
    "\n",
    "**167:22:46 Scott**: Which proves that Mr. Galileo was correct in his findings."
   ]
  },
  {
   "cell_type": "markdown",
   "id": "18f234c1",
   "metadata": {},
   "source": [
    "Using this footage, we can also attempt to confirm another famous bit of physics: Newton's law of universal gravitation. Newton's laws predict that any object dropped near the surface of the Moon should fall\n",
    "\n",
    "$$\\frac{1}{2} G \\frac{M}{R^2} t^2 \\text{ meters}$$\n",
    "\n",
    "after $t$ seconds, where $G$ is a universal constant, $M$ is the moon's mass in kilograms, and $R$ is the moon's radius in meters.  So, if we know $G$, $M$, and $R$, then Newton's laws let us predict how far an object will fall over any amount of time.\n",
    "\n",
    "To verify the accuracy of this law, we will calculate the difference between the predicted distance the hammer drops and the actual distance.  (If they are different, it might be because Newton's laws are wrong, or because our measurements are imprecise, or because there are other factors affecting the hammer for which we haven't accounted.)\n",
    "\n",
    "Someone studied the video and estimated that the hammer was dropped 113 cm from the surface. Counting frames in the video, the hammer falls for 1.2 seconds (36 frames)."
   ]
  },
  {
   "cell_type": "markdown",
   "id": "8ef02e11",
   "metadata": {},
   "source": [
    "### Task 4 📍"
   ]
  },
  {
   "cell_type": "markdown",
   "id": "cec82c41",
   "metadata": {},
   "source": [
    "Complete the code in the next cell to name two variables (`time`, `estimated_distance_m`) using the information from the estimated values above. You'll use this information later. Notice that the distance estimate is given in cm, but it needs to be converted to meters."
   ]
  },
  {
   "cell_type": "code",
   "execution_count": null,
   "id": "493a48b5",
   "metadata": {
    "execution": {
     "iopub.execute_input": "2022-08-26T18:04:49.556299Z",
     "iopub.status.busy": "2022-08-26T18:04:49.555986Z",
     "iopub.status.idle": "2022-08-26T18:04:49.560663Z",
     "shell.execute_reply": "2022-08-26T18:04:49.559680Z"
    },
    "tags": []
   },
   "outputs": [],
   "source": [
    "# The duration of the fall in the experiment, in seconds.\n",
    "time = ...\n",
    "\n",
    "# The estimated distance the hammer actually fell, in meters.\n",
    "estimated_distance_m = ..."
   ]
  },
  {
   "cell_type": "code",
   "execution_count": null,
   "id": "ff7fc977",
   "metadata": {
    "deletable": false,
    "editable": false
   },
   "outputs": [],
   "source": [
    "grader.check(\"task_4\")"
   ]
  },
  {
   "cell_type": "markdown",
   "id": "9aa1e206",
   "metadata": {},
   "source": [
    "### Task 5 📍"
   ]
  },
  {
   "cell_type": "markdown",
   "id": "de8ea003",
   "metadata": {},
   "source": [
    "Now, complete the code in the next cell to compute the difference between the predicted and estimated distances (in meters) that the hammer fell in this experiment.\n",
    "\n",
    "This just means translating the formula above ($\\frac{1}{2}G\\frac{M}{R^2}t^2$) into Python code.  You'll have to replace each variable in the math formula with the name we gave that number in Python code. Try to use variables you've already defined in the previous task."
   ]
  },
  {
   "cell_type": "code",
   "execution_count": null,
   "id": "e24a6681",
   "metadata": {
    "execution": {
     "iopub.execute_input": "2022-08-26T18:04:49.602952Z",
     "iopub.status.busy": "2022-08-26T18:04:49.602602Z",
     "iopub.status.idle": "2022-08-26T18:04:49.609920Z",
     "shell.execute_reply": "2022-08-26T18:04:49.608995Z"
    },
    "tags": []
   },
   "outputs": [],
   "source": [
    "# First, we've written down the values of the 3 universal constants \n",
    "# that show up in Newton's formula.\n",
    "\n",
    "# G, the universal constant measuring the strength of gravity.\n",
    "gravity_constant = 6.674 * 10**-11 \n",
    "\n",
    "# M, the moon's mass, in kilograms.\n",
    "moon_mass_kg = 7.34767309 * 10**22 \n",
    "\n",
    "# R, the radius of the moon, in meters.\n",
    "moon_radius_m = 1.737 * 10**6 \n",
    "\n",
    "# The distance the hammer should have fallen \n",
    "# over the duration of the fall, in meters, \n",
    "# according to Newton's law of gravity.  \n",
    "# The text above describes the formula\n",
    "# for this distance given by Newton's law.\n",
    "predicted_distance_m = ...\n",
    "\n",
    "# Here we've computed the difference \n",
    "# between the predicted fall distance and the distance we actually measured.\n",
    "# If you've filled in the above code, this should just work.\n",
    "difference = predicted_distance_m - estimated_distance_m\n",
    "difference"
   ]
  },
  {
   "cell_type": "code",
   "execution_count": null,
   "id": "7f2a83d4",
   "metadata": {
    "deletable": false,
    "editable": false
   },
   "outputs": [],
   "source": [
    "grader.check(\"task_5\")"
   ]
  },
  {
   "cell_type": "markdown",
   "id": "093b22d0",
   "metadata": {},
   "source": [
    "## 4. Calling Functions"
   ]
  },
  {
   "cell_type": "markdown",
   "id": "b1c075af",
   "metadata": {},
   "source": [
    "The most common way to combine or manipulate values in Python is by calling functions. As a preview, functions essentially name a logical flow of code. Python comes with many built-in functions that perform common operations.\n",
    "\n",
    "For example, the absolute value function `abs` takes a single number as its argument and returns the absolute value of that number. Run the next two cells that contain a function call using the absolute value function `abs`."
   ]
  },
  {
   "cell_type": "code",
   "execution_count": null,
   "id": "1a67d73d",
   "metadata": {
    "execution": {
     "iopub.execute_input": "2022-08-26T18:04:49.641964Z",
     "iopub.status.busy": "2022-08-26T18:04:49.640944Z",
     "iopub.status.idle": "2022-08-26T18:04:49.647027Z",
     "shell.execute_reply": "2022-08-26T18:04:49.646112Z"
    }
   },
   "outputs": [],
   "source": [
    "abs(5)"
   ]
  },
  {
   "cell_type": "code",
   "execution_count": null,
   "id": "1109c7f1",
   "metadata": {
    "execution": {
     "iopub.execute_input": "2022-08-26T18:04:49.650467Z",
     "iopub.status.busy": "2022-08-26T18:04:49.650163Z",
     "iopub.status.idle": "2022-08-26T18:04:49.655900Z",
     "shell.execute_reply": "2022-08-26T18:04:49.654978Z"
    }
   },
   "outputs": [],
   "source": [
    "abs(-5)"
   ]
  },
  {
   "cell_type": "markdown",
   "id": "c58376a8",
   "metadata": {},
   "source": [
    "Note that `abs` is the name of the function, but `abs(5)` is the call expression because it sends an input of `5` to the function to be evaluated and the function returns a value. You will learn more about functions later in the course. For now, just practice using ones that are already defined."
   ]
  },
  {
   "cell_type": "markdown",
   "id": "76a2224d",
   "metadata": {},
   "source": [
    "### Computing Walking Distances"
   ]
  },
  {
   "cell_type": "markdown",
   "id": "e19ce445",
   "metadata": {},
   "source": [
    "An individual is on the corner of 7th Avenue and 42nd Street in Midtown Manhattan, and they want to know far they would have to walk to get to Gramercy School on the corner of 10th Avenue and 34th Street.\n",
    "\n",
    "They can't cut across blocks diagonally, since there are buildings in the way.  They have to walk along the sidewalks.  Using the map below, they see they would have to walk 3 avenues (long blocks) and 8 streets (short blocks).  In terms of the given numbers, they computed 3 as the difference between 7 and 10, *in absolute value*, and 8 similarly.  \n",
    "\n",
    "They also know that blocks in Manhattan are all about 80m by 274m (avenues are farther apart than streets).  So in total, they would have to walk $(80 \\times |42 - 34| + 274 \\times |7 - 10|)$ meters to get to the park.\n",
    "\n",
    "<img src=\"map.jpg\" alt=\"An aerial view of Manhattan with the measurement information overlaid on the map.\">"
   ]
  },
  {
   "cell_type": "markdown",
   "id": "6cd6b1c6",
   "metadata": {},
   "source": [
    "### Task 6 📍"
   ]
  },
  {
   "cell_type": "markdown",
   "id": "b1189284",
   "metadata": {},
   "source": [
    "Call the `abs` function with the input value named `difference` to name `num_avenues_away` in the next cell so that the cell calculates the distance they must walk and gives it the name `manhattan_distance`. Note that everything else has been filled in for you."
   ]
  },
  {
   "cell_type": "code",
   "execution_count": null,
   "id": "f7186366",
   "metadata": {
    "execution": {
     "iopub.execute_input": "2022-08-26T18:04:49.660210Z",
     "iopub.status.busy": "2022-08-26T18:04:49.659549Z",
     "iopub.status.idle": "2022-08-26T18:04:49.666350Z",
     "shell.execute_reply": "2022-08-26T18:04:49.665405Z"
    },
    "tags": []
   },
   "outputs": [],
   "source": [
    "# Here's the number of streets away:\n",
    "num_streets_away = abs(42-34)\n",
    "\n",
    "# Compute the number of avenues away in a similar way:\n",
    "difference = 7 - 10\n",
    "num_avenues_away = ...\n",
    "\n",
    "street_length_m = 80\n",
    "avenue_length_m = 274\n",
    "\n",
    "# Now we compute the total distance Chunhua must walk.\n",
    "manhattan_distance = street_length_m*num_streets_away + avenue_length_m*num_avenues_away\n",
    "\n",
    "# We've included this line so that you see the distance you've computed \n",
    "# when you run this cell.  \n",
    "# You don't need to change it, but you can if you want.\n",
    "manhattan_distance"
   ]
  },
  {
   "cell_type": "code",
   "execution_count": null,
   "id": "ab03280c",
   "metadata": {
    "deletable": false,
    "editable": false
   },
   "outputs": [],
   "source": [
    "grader.check(\"task_6\")"
   ]
  },
  {
   "cell_type": "markdown",
   "id": "d460d641",
   "metadata": {},
   "source": [
    "### Multiple Arguments"
   ]
  },
  {
   "cell_type": "markdown",
   "id": "1ff7821d",
   "metadata": {},
   "source": [
    "Some functions take multiple arguments, separated by commas. For example, the built-in `max` function returns the maximum argument passed to it. Run the following cell to see how to make a function call using multiple arguments. "
   ]
  },
  {
   "cell_type": "code",
   "execution_count": null,
   "id": "eee177d2",
   "metadata": {
    "execution": {
     "iopub.execute_input": "2022-08-26T18:04:49.707305Z",
     "iopub.status.busy": "2022-08-26T18:04:49.707008Z",
     "iopub.status.idle": "2022-08-26T18:04:49.712677Z",
     "shell.execute_reply": "2022-08-26T18:04:49.711894Z"
    }
   },
   "outputs": [],
   "source": [
    "max(2, -3, 4, -5)"
   ]
  },
  {
   "cell_type": "markdown",
   "id": "81b20f82",
   "metadata": {
    "tags": []
   },
   "source": [
    "## Understanding Nested Expressions"
   ]
  },
  {
   "cell_type": "markdown",
   "id": "28623360",
   "metadata": {},
   "source": [
    "Function calls and arithmetic expressions can themselves contain expressions. You saw an example in the last question:\n",
    "\n",
    "    abs(42-34)\n",
    "\n",
    "has 2 number expressions in a subtraction expression in a function call expression.\n",
    "\n",
    "Nested expressions can turn into complicated-looking code. However, the way in which complicated expressions break down is very regular.\n",
    "\n",
    "Suppose we are interested in human heights that are very unusual.  We'll say that a height is unusual to the extent that it's far away on the number line from the average human height.  [An estimate](http://press.endocrine.org/doi/full/10.1210/jcem.86.9.7875?ck=nck&) of the average adult human height (averaging, we hope, over all humans on Earth today) is 1.688 meters.\n",
    "\n",
    "So if an individual named Kayla is 1.21 meters tall, then their height is $|1.21 - 1.688|$, or $0.478$, meters away from the average.  Here's a picture of that:\n",
    "\n",
    "<img src=\"numberline_0.png\" alt=\"A number line showing the distance as the height.\">\n",
    "\n",
    "And here's how we'd write that in one line of Python code:"
   ]
  },
  {
   "cell_type": "code",
   "execution_count": null,
   "id": "602da723",
   "metadata": {
    "execution": {
     "iopub.execute_input": "2022-08-26T18:04:49.716307Z",
     "iopub.status.busy": "2022-08-26T18:04:49.715997Z",
     "iopub.status.idle": "2022-08-26T18:04:49.721566Z",
     "shell.execute_reply": "2022-08-26T18:04:49.720683Z"
    },
    "tags": []
   },
   "outputs": [],
   "source": [
    "abs(1.21 - 1.688)"
   ]
  },
  {
   "cell_type": "markdown",
   "id": "21092301",
   "metadata": {},
   "source": [
    "What's going on here? `abs` takes just one argument, so the stuff inside the parentheses is all part of that *single argument*.  Specifically, the argument is the value of the expression `1.21 - 1.688`.  The value of that expression is `-.478`.  That value is the argument to `abs`.  The absolute value of that is `.478`, so `.478` is the value of the full expression `abs(1.21 - 1.688)`.\n",
    "\n",
    "Picture simplifying the expression in several steps:\n",
    "\n",
    "1. `abs(1.21 - 1.688)`\n",
    "2. `abs(-0.478)`\n",
    "3. `0.478`\n",
    "\n",
    "In fact, that's basically what Python does to compute the value of the expression!"
   ]
  },
  {
   "cell_type": "markdown",
   "id": "39dee6ff",
   "metadata": {},
   "source": [
    "### Task 7 📍"
   ]
  },
  {
   "cell_type": "markdown",
   "id": "867d97d1",
   "metadata": {},
   "source": [
    "Say that Paola's height is 1.76 meters.  In the next cell, use `abs` to compute the absolute value of the difference between Paola's height and the average human height.  Give that value the name `paola_distance_from_average_m`.\n",
    "\n",
    "<img src=\"numberline_1.png\" alt=\"A number line visualizing the distance between Paola's height and an average human height.\">"
   ]
  },
  {
   "cell_type": "code",
   "execution_count": null,
   "id": "128a3014",
   "metadata": {
    "execution": {
     "iopub.execute_input": "2022-08-26T18:04:49.725926Z",
     "iopub.status.busy": "2022-08-26T18:04:49.725167Z",
     "iopub.status.idle": "2022-08-26T18:04:49.730698Z",
     "shell.execute_reply": "2022-08-26T18:04:49.729908Z"
    },
    "tags": []
   },
   "outputs": [],
   "source": [
    "paola_distance_from_average_m = ...\n",
    "paola_distance_from_average_m"
   ]
  },
  {
   "cell_type": "code",
   "execution_count": null,
   "id": "407a9622",
   "metadata": {
    "deletable": false,
    "editable": false
   },
   "outputs": [],
   "source": [
    "grader.check(\"task_7\")"
   ]
  },
  {
   "cell_type": "markdown",
   "id": "b9ae0edc",
   "metadata": {},
   "source": [
    "### More Nesting"
   ]
  },
  {
   "cell_type": "markdown",
   "id": "2a71595b",
   "metadata": {},
   "source": [
    "Now, say that we want to compute the more unusual of the two heights.  We'll use the function `max`, which (again) takes two numbers as arguments and returns the larger of the two arguments.  Combining that with the `abs` function, we can compute the larger distance from average among the two heights. Just read through and run the following cell. Note that you are not expected to know how this more complex `print` statement works, but it is worth spending a few minutes trying to understand."
   ]
  },
  {
   "cell_type": "code",
   "execution_count": null,
   "id": "6704c87e",
   "metadata": {
    "execution": {
     "iopub.execute_input": "2022-08-26T18:04:49.754821Z",
     "iopub.status.busy": "2022-08-26T18:04:49.754246Z",
     "iopub.status.idle": "2022-08-26T18:04:49.759508Z",
     "shell.execute_reply": "2022-08-26T18:04:49.758651Z"
    }
   },
   "outputs": [],
   "source": [
    "kayla_height_m = 1.21\n",
    "paola_height_m = 1.76\n",
    "average_adult_height_m = 1.688\n",
    "\n",
    "# The larger distance from the average human height, among the two heights:\n",
    "larger_distance_m = max(abs(kayla_height_m - average_adult_height_m), \n",
    "                        abs(paola_height_m - average_adult_height_m))\n",
    "\n",
    "# Print out our results in a nice readable format:\n",
    "print(\"The larger distance from the average height among these two people is\", \n",
    "      larger_distance_m, \n",
    "      \"meters.\")"
   ]
  },
  {
   "cell_type": "markdown",
   "id": "e61b18df",
   "metadata": {},
   "source": [
    "The line where `larger_distance_m` is computed looks complicated, but we can break it down into simpler components just like we did before.\n",
    "\n",
    "The basic recipe is to repeatedly simplify small parts of the expression:\n",
    "* **Basic expressions:** Start with expressions whose values we know, like names or numbers.\n",
    "    - Examples: `paola_height_m` or `5`.\n",
    "* **Find the next simplest group of expressions:** Look for basic expressions that are directly connected to each other. This can be by arithmetic or as arguments to a function call. \n",
    "    - Example: `kayla_height_m - average_adult_height_m`.\n",
    "* **Evaluate that group:** Evaluate the arithmetic expression or function call. Use the value computed to replace the group of expressions.  \n",
    "    - Example: `kayla_height_m - average_adult_height_m` becomes `-0.478`.\n",
    "* **Repeat:** Continue this process, using the value of the previously-evaluated expression as a new basic expression. Stop when we've evaluated the entire expression.\n",
    "    - Example: `abs(-0.478)` becomes `0.478`, and `max(0.478, 0.072)` becomes `0.478`.\n",
    "\n",
    "You can run the next cell to see a slideshow of that process."
   ]
  },
  {
   "cell_type": "code",
   "execution_count": null,
   "id": "58a137b4",
   "metadata": {
    "execution": {
     "iopub.execute_input": "2022-08-26T18:04:49.763039Z",
     "iopub.status.busy": "2022-08-26T18:04:49.762766Z",
     "iopub.status.idle": "2022-08-26T18:04:49.768853Z",
     "shell.execute_reply": "2022-08-26T18:04:49.767752Z"
    }
   },
   "outputs": [],
   "source": [
    "from IPython.display import IFrame\n",
    "IFrame('https://docs.google.com/presentation/d/e/2PACX-1vTiIUOa9tP4pHPesrI8p2TCp8WCOJtTb3usOacQFPfkEfvQMmX-JYEW3OnBoTmQEJWAHdBP6Mvp053G/embed?start=false&loop=false&delayms=3000', 800, 600)"
   ]
  },
  {
   "cell_type": "markdown",
   "id": "6dc6713e",
   "metadata": {},
   "source": [
    "### Task 8 📍"
   ]
  },
  {
   "cell_type": "markdown",
   "id": "cf5c3e9d",
   "metadata": {},
   "source": [
    "Given the heights of players from the Golden State Warriors, write an expression that computes the smallest difference between any of the three heights. Your expression shouldn't have any numbers in it, only function calls and the names `klay`, `steph`, and `moses`. Give the value of your expression the name `min_height_difference`.\n",
    "\n",
    "We recommend that you compute the absolute difference between each pair of names that represent heights using `abs` and then find the smallest of those 3 absolute differences using `min`."
   ]
  },
  {
   "cell_type": "code",
   "execution_count": null,
   "id": "3e845882",
   "metadata": {
    "execution": {
     "iopub.execute_input": "2022-08-26T18:04:49.772890Z",
     "iopub.status.busy": "2022-08-26T18:04:49.772569Z",
     "iopub.status.idle": "2022-08-26T18:04:49.778377Z",
     "shell.execute_reply": "2022-08-26T18:04:49.777441Z"
    },
    "tags": []
   },
   "outputs": [],
   "source": [
    "# The three players' heights, in inches\n",
    "thompson =  78 # Klay Thompson is 6'6\"\n",
    "curry = 74 # Steph Curry is 6'2\"\n",
    "wiggins = 79 # Andrew Wiggins is 6'7\"\n",
    "\n",
    "min_height_difference = ...\n",
    "min_height_difference\n",
    "print(\"The smallest difference between any of the three heights is\", \n",
    "      min_height_difference, \n",
    "      \"inche(s).\")"
   ]
  },
  {
   "cell_type": "code",
   "execution_count": null,
   "id": "cab159ec",
   "metadata": {
    "deletable": false,
    "editable": false
   },
   "outputs": [],
   "source": [
    "grader.check(\"task_8\")"
   ]
  },
  {
   "cell_type": "markdown",
   "id": "512d96d8",
   "metadata": {},
   "source": [
    "## Submitting Your Lab to Canvas"
   ]
  },
  {
   "cell_type": "markdown",
   "id": "dd5b747d",
   "metadata": {},
   "source": [
    "Once you have finished working on the lab questions, prepare to submit your work in Canvas by completing the following steps:\n",
    "\n",
    "1. Double-check that you have responded to all the open-response questions.\n",
    "2. Double-check that you have run the code cell near the end of the notebook that contains the command `grader.check_all()`. This command will run all of the run tests on all your responses to the code questions.\n",
    "3. Select the menu item `File` and `Save and Checkpoint` in the notebook's Toolbar to save your work and create a specific checkpoint in the notebook's work history.\n",
    "4. Select the menu items `File`, `Save and Export Notebook As ...`, and `HTML` in the notebook's Toolbar to download an HTML version of this notebook file.\n",
    "5. In the related Canvas Assignment, click Start Assignment or New Attempt to upload the downloaded HTML file."
   ]
  },
  {
   "cell_type": "markdown",
   "id": "8a8821b8",
   "metadata": {
    "deletable": false,
    "editable": false
   },
   "source": [
    "---\n",
    "\n",
    "To double-check your work, the cell below will rerun all of the autograder tests."
   ]
  },
  {
   "cell_type": "code",
   "execution_count": null,
   "id": "15aead7c",
   "metadata": {
    "deletable": false,
    "editable": false
   },
   "outputs": [],
   "source": [
    "grader.check_all()"
   ]
  }
 ],
 "metadata": {
  "kernelspec": {
   "display_name": "Python 3 (ipykernel)",
   "language": "python",
   "name": "python3"
  },
  "language_info": {
   "codemirror_mode": {
    "name": "ipython",
    "version": 3
   },
   "file_extension": ".py",
   "mimetype": "text/x-python",
   "name": "python",
   "nbconvert_exporter": "python",
   "pygments_lexer": "ipython3",
   "version": "3.10.5"
  },
  "otter": {
   "tests": {
    "task_2": {
     "name": "task_2",
     "points": 1,
     "suites": [
      {
       "cases": [
        {
         "code": ">>> \n>>> 'eleven' in globals()\nTrue",
         "failure_message": "❌ It doesn't seem that you have named an expressoin as eleven.",
         "hidden": false,
         "locked": false,
         "points": 0.5,
         "success_message": "✅ Great work Python recognizes eleven as a name!"
        },
        {
         "code": ">>> \n>>> eleven == 11\nTrue",
         "failure_message": "❌ It doesn't seem that you have assigned a value of 11 to the name eleven.",
         "hidden": false,
         "locked": false,
         "points": 0.5,
         "success_message": "✅ The name eleven represents the numerical value 11!"
        }
       ],
       "scored": true,
       "setup": "",
       "teardown": "",
       "type": "doctest"
      }
     ]
    },
    "task_3": {
     "name": "task_3",
     "points": 1,
     "suites": [
      {
       "cases": [
        {
         "code": ">>> \n>>> ('number_of_days' in vars()\n...  and number_of_days != ...\n...  and 'seconds_per_decade' in vars()\n...  and seconds_per_decade != ...)\nTrue",
         "failure_message": "❌ Make sure you replace both sets of ... and run the cell that assigns a value to number_of_days and seconds_in_a_decade.",
         "hidden": false,
         "locked": false,
         "points": 0,
         "success_message": "✅ You have assigned values to the names number_of_days and second_per_decade."
        },
        {
         "code": ">>> \n>>> number_of_days == 3653\nTrue",
         "failure_message": "❌ You don't have the correct number of days assigned to number_of_days. Remember that 3 of the 10 years are leap years.",
         "hidden": false,
         "locked": false,
         "points": 0.5,
         "success_message": "✅ You have the correct number of days assigned to number_of_days!"
        },
        {
         "code": ">>> \n>>> seconds_per_decade == 315619200\nTrue",
         "failure_message": "❌ You don't have the correct number of seconds in a decade. Consider converting days to seconds.",
         "hidden": false,
         "locked": false,
         "points": 0.5,
         "success_message": "✅ You have the correct number of seconds in a decade!"
        }
       ],
       "scored": true,
       "setup": "",
       "teardown": "",
       "type": "doctest"
      }
     ]
    },
    "task_4": {
     "name": "task_4",
     "points": 1,
     "suites": [
      {
       "cases": [
        {
         "code": ">>> \n>>> ('time' in vars()\n...  and time != ...\n...  and 'estimated_distance_m' in vars()\n...  and estimated_distance_m != ...)\nTrue",
         "failure_message": "❌ Make sure you replace both sets of ... and run the cell that assigns a value to time and estimated_distance_m.",
         "hidden": false,
         "locked": false,
         "points": 0,
         "success_message": "✅ You have assigned values to the names time and estimated_distance_m."
        },
        {
         "code": ">>> \n>>> time == 1.2\nTrue",
         "failure_message": "❌ You don't have the correct value for time. Doulbe check the estimated values in the above paragraph.",
         "hidden": false,
         "locked": false,
         "points": 0.5,
         "success_message": "✅ You have the correct value for time."
        },
        {
         "code": ">>> \n>>> estimated_distance_m != 113\nTrue",
         "failure_message": "❌ Remember to convert from cm to m.",
         "hidden": false,
         "locked": false,
         "points": 0,
         "success_message": "✅ Great work not using the provided cm value for estimated_distance_m."
        },
        {
         "code": ">>> \n>>> estimated_distance_m == 1.13\nTrue",
         "failure_message": "❌ You don't have the correct value for estimated_distance_m.",
         "hidden": false,
         "locked": false,
         "points": 0.5,
         "success_message": "✅ You have the correct value for estimated_distance_m"
        }
       ],
       "scored": true,
       "setup": "",
       "teardown": "",
       "type": "doctest"
      }
     ]
    },
    "task_5": {
     "name": "task_5",
     "points": 1,
     "suites": [
      {
       "cases": [
        {
         "code": ">>> \n>>> predicted_distance_m != ... and 'predicted_distance_m' in vars()\nTrue",
         "failure_message": "❌ Make sure you replace ... and run the cell that assigns a value to predicted_distance_m.",
         "hidden": false,
         "locked": false,
         "points": 0,
         "success_message": "✅ You have assigned values to the name predicted_distance_m."
        },
        {
         "code": ">>> \n>>> round(predicted_distance_m, 5) == 1.17022\nTrue",
         "failure_message": "❌ You don't have the correct value for predicted_distance_m. Doulbe check the formula and use the named values we provided.",
         "hidden": false,
         "locked": false,
         "points": 0.5,
         "success_message": "✅ You have a correct value for predicted_distance_m"
        },
        {
         "code": ">>> \n>>> round(difference, 5)  == 0.04022\nTrue",
         "failure_message": "❌ You don't have the correct value for difference.",
         "hidden": false,
         "locked": false,
         "points": 0.5,
         "success_message": "✅ You have a correct value for difference."
        }
       ],
       "scored": true,
       "setup": "",
       "teardown": "",
       "type": "doctest"
      }
     ]
    },
    "task_6": {
     "name": "task_6",
     "points": 1,
     "suites": [
      {
       "cases": [
        {
         "code": ">>> \n>>> num_avenues_away != ... and 'num_avenues_away' in vars()\nTrue",
         "failure_message": "❌ Make sure you replace ... and run the cell that assigns a value to num_avenues_away.",
         "hidden": false,
         "locked": false,
         "points": 0,
         "success_message": "✅ You have assigned values to the name num_avenues_away."
        },
        {
         "code": ">>> \n>>> num_avenues_away >= 0\nTrue",
         "failure_message": "❌ Make sure to use the abs.",
         "hidden": false,
         "locked": false,
         "points": 0,
         "success_message": "✅ Great work not getting a negative number for the number of avenues!"
        },
        {
         "code": ">>> \n>>> num_avenues_away == 3\nTrue",
         "failure_message": "❌ You don't have the correct value for num_avenues_away.",
         "hidden": false,
         "locked": false,
         "points": 0.5,
         "success_message": "✅ You have the correct value for num_avenues_away."
        },
        {
         "code": ">>> \n>>> manhattan_distance == 1462\nTrue",
         "failure_message": "❌ You don't have the correct value for manhattan_distance.",
         "hidden": false,
         "locked": false,
         "points": 0.5,
         "success_message": "✅ You have the correct value for manhattan_distancey."
        }
       ],
       "scored": true,
       "setup": "",
       "teardown": "",
       "type": "doctest"
      }
     ]
    },
    "task_7": {
     "name": "task_7",
     "points": 1,
     "suites": [
      {
       "cases": [
        {
         "code": ">>> \n>>> paola_distance_from_average_m != ... and 'paola_distance_from_average_m' in vars() \nTrue",
         "failure_message": "❌ Make sure you replace ... and run the cell that assigns a value to paola_distance_from_average_m.",
         "hidden": false,
         "locked": false,
         "points": 0,
         "success_message": "✅ You have assigned values to the name paola_distance_from_average_m."
        },
        {
         "code": ">>> \n>>> round(paola_distance_from_average_m, 5) == 0.072\nTrue",
         "failure_message": "❌ You don't have the correct value for paola_distance_from_average_m. Try to use `abs` with a nested arithmetic expression as its input.",
         "hidden": false,
         "locked": false,
         "points": 1,
         "success_message": "✅ You have the correct value for paola_distance_from_average_m"
        }
       ],
       "scored": true,
       "setup": "",
       "teardown": "",
       "type": "doctest"
      }
     ]
    },
    "task_8": {
     "name": "task_8",
     "points": 1,
     "suites": [
      {
       "cases": [
        {
         "code": ">>> \n>>> min_height_difference != ... and 'min_height_difference' in vars();\n",
         "failure_message": "❌ Make sure you replace ... and run the cell that assigns a value to min_height_difference.",
         "hidden": false,
         "locked": false,
         "points": 0,
         "success_message": "✅ You have assigned values to the name min_height_difference."
        },
        {
         "code": ">>> \n>>> round(min_height_difference, 5) == 1\nTrue",
         "failure_message": "❌ You don't have the correct value for min_height_difference. Find the minimum of three absolute differences of heights",
         "hidden": false,
         "locked": false,
         "points": 1,
         "success_message": "✅ You have the correct value for min_height_difference"
        }
       ],
       "scored": true,
       "setup": "",
       "teardown": "",
       "type": "doctest"
      }
     ]
    }
   }
  },
  "toc": {
   "base_numbering": 1,
   "nav_menu": {},
   "number_sections": false,
   "sideBar": true,
   "skip_h1_title": false,
   "title_cell": "Table of Contents",
   "title_sidebar": "Contents",
   "toc_cell": false,
   "toc_position": {},
   "toc_section_display": true,
   "toc_window_display": false
  },
  "toc-autonumbering": false,
  "toc-showcode": false,
  "toc-showmarkdowntxt": false,
  "toc-showtags": false
 },
 "nbformat": 4,
 "nbformat_minor": 5
}
