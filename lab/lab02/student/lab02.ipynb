{
 "cells": [
  {
   "cell_type": "code",
   "execution_count": null,
   "id": "e74a0a0a",
   "metadata": {
    "deletable": false,
    "editable": false
   },
   "outputs": [],
   "source": [
    "# Initialize Otter\n",
    "import otter\n",
    "grader = otter.Notebook(\"lab02.ipynb\")"
   ]
  },
  {
   "cell_type": "markdown",
   "id": "711a4605",
   "metadata": {
    "tags": []
   },
   "source": [
    "<img style=\"display: block; margin-left: auto; margin-right: auto\" src=\"./ccsf-logo.png\" width=\"250rem;\" alt=\"The CCSF black and white logo\">"
   ]
  },
  {
   "cell_type": "markdown",
   "id": "36c10529",
   "metadata": {},
   "source": [
    "<div style=\"text-align: center;\">\n",
    "    <h1>LAB 02 - EXPRESSIONS</h1>\n",
    "    <em>View the related <a href=\"https://ccsf.instructure.com\" target=\"_blank\">Canvas</a> Assignment page for additional details.</em>\n",
    "</div>"
   ]
  },
  {
   "cell_type": "markdown",
   "id": "73902b5b",
   "metadata": {
    "tags": []
   },
   "source": [
    "## Resources"
   ]
  },
  {
   "cell_type": "markdown",
   "id": "fb14c717",
   "metadata": {},
   "source": [
    " - [Textbook Sections 3.0 - 3.3](https://inferentialthinking.com/chapters/03/programming-in-python.html)\n",
    " - [Order of Operations](https://en.wikipedia.org/wiki/Order_of_operations)\n",
    " - Advanced Resources:\n",
    "     - [Python 3.10 Expressions](https://docs.python.org/3.10/reference/expressions.html)\n",
    "     - [PEP 8 - Style Guide: Naming Conventions](https://peps.python.org/pep-0008/#naming-conventions)"
   ]
  },
  {
   "cell_type": "markdown",
   "id": "fa1cb531",
   "metadata": {},
   "source": [
    "## Otter Reminder"
   ]
  },
  {
   "cell_type": "markdown",
   "id": "70815d25",
   "metadata": {},
   "source": [
    "Remember that your assignment notebooks use an auto-grader called Otter. In order to use that grader, you need to make sure to run the cell at the top of the notebook that configures Otter for this assignment. If you see the error `NameError: name 'grader' is not defined` later on, than that means that you need to run the code cell that initializes otter."
   ]
  },
  {
   "cell_type": "markdown",
   "id": "c5660064",
   "metadata": {
    "tags": []
   },
   "source": [
    "## Expressions"
   ]
  },
  {
   "cell_type": "markdown",
   "id": "0fd70ae1",
   "metadata": {
    "tags": []
   },
   "source": [
    "The fundamental building blocks of Python code are expressions. In these notebooks, cells can contain multiple lines with multiple expressions. When you run a cell, the lines of code are executed in the order in which they appear. Every `print` statement prints a line. Run the next cell and notice the order of the output."
   ]
  },
  {
   "cell_type": "code",
   "execution_count": null,
   "id": "7296fdae",
   "metadata": {
    "execution": {
     "iopub.execute_input": "2022-08-24T09:00:52.845117Z",
     "iopub.status.busy": "2022-08-24T09:00:52.844755Z",
     "iopub.status.idle": "2022-08-24T09:00:52.853931Z",
     "shell.execute_reply": "2022-08-24T09:00:52.853024Z"
    }
   },
   "outputs": [],
   "source": [
    "print(\"First this line is printed,\")\n",
    "print(\"and then this one.\")"
   ]
  },
  {
   "cell_type": "markdown",
   "id": "9be4c1aa",
   "metadata": {},
   "source": [
    "### Numbers"
   ]
  },
  {
   "cell_type": "markdown",
   "id": "de944843",
   "metadata": {},
   "source": [
    "Quantitative information arises everywhere in Data Science. In addition to representing commands to print out lines, expressions can represent numbers and methods of combining numbers. The expression `3.2500` evaluates to the number 3.25. Run the cell and see the result."
   ]
  },
  {
   "cell_type": "code",
   "execution_count": null,
   "id": "f1a5738e",
   "metadata": {
    "execution": {
     "iopub.execute_input": "2022-08-24T09:00:52.857715Z",
     "iopub.status.busy": "2022-08-24T09:00:52.857388Z",
     "iopub.status.idle": "2022-08-24T09:00:52.868394Z",
     "shell.execute_reply": "2022-08-24T09:00:52.867438Z"
    }
   },
   "outputs": [],
   "source": [
    "3.2500"
   ]
  },
  {
   "cell_type": "markdown",
   "id": "abde807e",
   "metadata": {},
   "source": [
    "Notice that we didn't have to `print`. When you run a notebook cell, if the last line has a value, then Jupyter helpfully prints out that value for you. However, it won't print out prior lines automatically."
   ]
  },
  {
   "cell_type": "code",
   "execution_count": null,
   "id": "25ffedcd",
   "metadata": {
    "execution": {
     "iopub.execute_input": "2022-08-24T09:00:52.878135Z",
     "iopub.status.busy": "2022-08-24T09:00:52.877456Z",
     "iopub.status.idle": "2022-08-24T09:00:52.883688Z",
     "shell.execute_reply": "2022-08-24T09:00:52.882762Z"
    }
   },
   "outputs": [],
   "source": [
    "print(2)\n",
    "3\n",
    "4"
   ]
  },
  {
   "cell_type": "markdown",
   "id": "1eb545c7",
   "metadata": {},
   "source": [
    "Above, you should see that 4 is the value of the last expression, 2 is printed, but 3 is lost forever because it was neither printed nor last.\n",
    "\n",
    "You don't want to print everything all the time anyway.  But if you feel sorry for 3, change the cell above to print it."
   ]
  },
  {
   "cell_type": "markdown",
   "id": "0eb61e19",
   "metadata": {},
   "source": [
    "### Arithmetic Expressions"
   ]
  },
  {
   "cell_type": "markdown",
   "id": "ff7bb767",
   "metadata": {},
   "source": [
    "The line in the next cell subtracts.  Its value is what you'd expect.  Run it to see the result."
   ]
  },
  {
   "cell_type": "code",
   "execution_count": null,
   "id": "caaf87f7",
   "metadata": {
    "execution": {
     "iopub.execute_input": "2022-08-24T09:00:52.887990Z",
     "iopub.status.busy": "2022-08-24T09:00:52.887354Z",
     "iopub.status.idle": "2022-08-24T09:00:52.893326Z",
     "shell.execute_reply": "2022-08-24T09:00:52.892148Z"
    }
   },
   "outputs": [],
   "source": [
    "3.25 - 1.5"
   ]
  },
  {
   "cell_type": "markdown",
   "id": "86d4c7fc",
   "metadata": {},
   "source": [
    "Many basic arithmetic operations are built into Python.  The textbook section on [Expressions](http://www.inferentialthinking.com/chapters/03/1/Expressions.html) describes all the arithmetic operators used in the course.  The common operator that differs from typical math notation is `**`, which raises one number to the power of the other. So, `2 ** 3` stands for $2^3$ and evaluates to 8. "
   ]
  },
  {
   "cell_type": "markdown",
   "id": "8106a34c",
   "metadata": {},
   "source": [
    "#### Order of Operations"
   ]
  },
  {
   "cell_type": "markdown",
   "id": "3fe7b082",
   "metadata": {},
   "source": [
    "The [order of operations](https://en.wikipedia.org/wiki/Order_of_operations) is the same as what you learned in previous courses. Python also has parentheses to group operations.  For example, compare the outputs of the two cells below that contain the same numbers. The second cell uses parentheses to show 2022, but the first cell produces a different number because of the lack of parentheses!"
   ]
  },
  {
   "cell_type": "code",
   "execution_count": null,
   "id": "bb7bc50d",
   "metadata": {
    "execution": {
     "iopub.execute_input": "2022-08-24T09:00:52.897800Z",
     "iopub.status.busy": "2022-08-24T09:00:52.897195Z",
     "iopub.status.idle": "2022-08-24T09:00:52.902727Z",
     "shell.execute_reply": "2022-08-24T09:00:52.901852Z"
    }
   },
   "outputs": [],
   "source": [
    "6+6*5-6*3**2*2**3/4*7"
   ]
  },
  {
   "cell_type": "code",
   "execution_count": null,
   "id": "8811230f",
   "metadata": {
    "execution": {
     "iopub.execute_input": "2022-08-24T09:00:52.906703Z",
     "iopub.status.busy": "2022-08-24T09:00:52.905883Z",
     "iopub.status.idle": "2022-08-24T09:00:52.912493Z",
     "shell.execute_reply": "2022-08-24T09:00:52.911544Z"
    },
    "tags": []
   },
   "outputs": [],
   "source": [
    "6+(6*5-(6*3))**2*((2**3)/4*7)"
   ]
  },
  {
   "cell_type": "markdown",
   "id": "b7519f6c",
   "metadata": {},
   "source": [
    "In standard math notation, the first expression is\n",
    "\n",
    "$$6 + 6 \\times 5 - 6 \\times 3^2 \\times \\frac{2^3}{4} \\times 7,$$\n",
    "\n",
    "while the second expression is\n",
    "\n",
    "$$6 + \\left(6 \\times 5 - (6 \\times 3)\\right)^2 \\times \\left(\\frac{\\left(2^3\\right)}{4} \\times 7\\right).$$"
   ]
  },
  {
   "cell_type": "markdown",
   "id": "2a215c4a",
   "metadata": {},
   "source": [
    "#### Task 1 📍🔎"
   ]
  },
  {
   "cell_type": "markdown",
   "id": "ea3e36bc",
   "metadata": {
    "jp-MarkdownHeadingCollapsed": true,
    "tags": []
   },
   "source": [
    "<!-- BEGIN QUESTION -->\n",
    "\n",
    "Write a Python expression in this next cell that's equal to \n",
    "\n",
    "$$5 \\times \\left(3 \\frac{10}{11}\\right) - 50 \\frac{1}{3} + 2^{\\left(0.5 \\times 22\\right)} - \\frac{7}{33} + 5.$$  \n",
    "\n",
    "That's five times three and ten elevenths, minus fifty and a third, plus two to the power of half twenty-two, minus seven thirty-thirds plus five.  As a reminder, $3 \\frac{10}{11}$ means $3+\\frac{10}{11}$, not $3 \\times \\frac{10}{11}$.\n",
    "\n",
    "Replace the ellipses (`...`) with your expression.  Try to use parentheses only when necessary."
   ]
  },
  {
   "cell_type": "code",
   "execution_count": null,
   "id": "282727c6",
   "metadata": {
    "execution": {
     "iopub.execute_input": "2022-08-24T09:00:52.916303Z",
     "iopub.status.busy": "2022-08-24T09:00:52.916011Z",
     "iopub.status.idle": "2022-08-24T09:00:52.923048Z",
     "shell.execute_reply": "2022-08-24T09:00:52.922201Z"
    },
    "tags": []
   },
   "outputs": [],
   "source": [
    "..."
   ]
  },
  {
   "cell_type": "markdown",
   "id": "c16019ea",
   "metadata": {},
   "source": [
    "<!-- END QUESTION -->\n",
    "\n",
    "## Names and Assignment Statements"
   ]
  },
  {
   "cell_type": "markdown",
   "id": "b0aff85d",
   "metadata": {},
   "source": [
    "In natural language, we have terminology that lets us quickly reference very complicated concepts.  We don't say, \"That's a large mammal with brown fur and sharp teeth!\"  Instead, we might say, \"Bear!\"\n",
    "\n",
    "In Python, we do a similar thing using _assignment statements_. An assignment statement has a name on the left side of an `=` sign and an expression to be evaluated on the right. Run the next cell that contains an assignment statement."
   ]
  },
  {
   "cell_type": "code",
   "execution_count": null,
   "id": "438608c6",
   "metadata": {
    "execution": {
     "iopub.execute_input": "2022-08-24T09:00:52.926915Z",
     "iopub.status.busy": "2022-08-24T09:00:52.926583Z",
     "iopub.status.idle": "2022-08-24T09:00:52.930643Z",
     "shell.execute_reply": "2022-08-24T09:00:52.929869Z"
    }
   },
   "outputs": [],
   "source": [
    "ten = 3 * 2 + 4"
   ]
  },
  {
   "cell_type": "markdown",
   "id": "203ee9db",
   "metadata": {},
   "source": [
    "When you run that cell, Python first computes the value of the expression on the right-hand side, `3 * 2 + 4`, which is the number 10.  Then it assigns that value to the name `ten`.  At that point, the code in the cell is done running. It can be a little subtle to know if a code cell that contains an assignment statement has being executed. Don't forget that the number in `[...]: ` let's us know that the cell has been run. After running that cell, the value 10 is bound to the name `ten`. Take a look by running the next cell."
   ]
  },
  {
   "cell_type": "code",
   "execution_count": null,
   "id": "aa11f16e",
   "metadata": {
    "execution": {
     "iopub.execute_input": "2022-08-24T09:00:52.934353Z",
     "iopub.status.busy": "2022-08-24T09:00:52.933567Z",
     "iopub.status.idle": "2022-08-24T09:00:52.939203Z",
     "shell.execute_reply": "2022-08-24T09:00:52.938337Z"
    }
   },
   "outputs": [],
   "source": [
    "ten"
   ]
  },
  {
   "cell_type": "markdown",
   "id": "9e9a50e8",
   "metadata": {},
   "source": [
    "The statement `ten = 3 * 2 + 4` is not asserting that `ten` is already equal to `3 * 2 + 4`, as we might expect by analogy with math notation.  Rather, that line of code changes what `ten` means; it now refers to the value 10, whereas before it meant nothing at all.\n",
    "\n",
    "If the designers of Python had been ruthlessly pedantic, they might have made us write\n",
    "\n",
    "    define the name ten to hereafter have the value of 3 * 2 + 4 \n",
    "\n",
    "instead.  You will probably appreciate the brevity of \"`=`\"!  But keep that hypothetical expression in mind as you work with assignment statements."
   ]
  },
  {
   "cell_type": "markdown",
   "id": "35a6aad0",
   "metadata": {},
   "source": [
    "#### Task 2 📍"
   ]
  },
  {
   "cell_type": "markdown",
   "id": "496337ea",
   "metadata": {},
   "source": [
    "Replace the `...` in the following cell with an assignment statement where the name is `eleven` and the expression is any arithmetic expression that has a value of 11."
   ]
  },
  {
   "cell_type": "code",
   "execution_count": null,
   "id": "ad2c5da7",
   "metadata": {
    "execution": {
     "iopub.execute_input": "2022-08-24T09:00:52.943813Z",
     "iopub.status.busy": "2022-08-24T09:00:52.942998Z",
     "iopub.status.idle": "2022-08-24T09:00:52.947557Z",
     "shell.execute_reply": "2022-08-24T09:00:52.946672Z"
    },
    "tags": []
   },
   "outputs": [],
   "source": [
    "eleven = ..."
   ]
  },
  {
   "cell_type": "code",
   "execution_count": null,
   "id": "d62e54c4",
   "metadata": {
    "deletable": false,
    "editable": false
   },
   "outputs": [],
   "source": [
    "grader.check(\"task_2\")"
   ]
  },
  {
   "cell_type": "markdown",
   "id": "2364c326",
   "metadata": {},
   "source": [
    "A common pattern in Jupyter notebooks is to assign a value to a name and then immediately evaluate the name in the last line in the cell so that the value is displayed as output. This is demonstrated in the following cell."
   ]
  },
  {
   "cell_type": "code",
   "execution_count": null,
   "id": "4c4cd414",
   "metadata": {
    "execution": {
     "iopub.execute_input": "2022-08-24T09:00:52.969481Z",
     "iopub.status.busy": "2022-08-24T09:00:52.969188Z",
     "iopub.status.idle": "2022-08-24T09:00:52.974608Z",
     "shell.execute_reply": "2022-08-24T09:00:52.973721Z"
    }
   },
   "outputs": [],
   "source": [
    "close_to_pi = 355/113\n",
    "close_to_pi"
   ]
  },
  {
   "cell_type": "markdown",
   "id": "a388409d",
   "metadata": {},
   "source": [
    "Another common pattern is that a series of lines in a single cell will build up a complex computation in stages, naming the intermediate results. We encourage this type of thinking in this class! The next cell shows you an example."
   ]
  },
  {
   "cell_type": "code",
   "execution_count": null,
   "id": "5f485871",
   "metadata": {
    "execution": {
     "iopub.execute_input": "2022-08-24T09:00:52.977982Z",
     "iopub.status.busy": "2022-08-24T09:00:52.977700Z",
     "iopub.status.idle": "2022-08-24T09:00:52.983385Z",
     "shell.execute_reply": "2022-08-24T09:00:52.982397Z"
    },
    "tags": []
   },
   "outputs": [],
   "source": [
    "semimonthly_salary = 841.25\n",
    "monthly_salary = 2 * semimonthly_salary\n",
    "number_of_months_in_a_year = 12\n",
    "yearly_salary = number_of_months_in_a_year * monthly_salary\n",
    "yearly_salary"
   ]
  },
  {
   "cell_type": "markdown",
   "id": "509d0ada",
   "metadata": {},
   "source": [
    "Names in Python can have letters (upper- and lower-case letters are both okay and count as different letters), underscores, and numbers.  The first character can't be a number (otherwise a name might look like a number).  And names can't contain spaces, since spaces are used to separate pieces of code from each other.\n",
    "\n",
    "Other than those rules, what you name something doesn't matter *to Python*.  For example, this cell does the same thing as the above cell, except everything has a different name. **However**, names are very important for making your code *readable* to yourself and others.  The cell above is shorter, but it's totally useless without an explanation of what it does."
   ]
  },
  {
   "cell_type": "code",
   "execution_count": null,
   "id": "74006ea0",
   "metadata": {
    "execution": {
     "iopub.execute_input": "2022-08-24T09:00:52.986940Z",
     "iopub.status.busy": "2022-08-24T09:00:52.986651Z",
     "iopub.status.idle": "2022-08-24T09:00:52.992131Z",
     "shell.execute_reply": "2022-08-24T09:00:52.991281Z"
    }
   },
   "outputs": [],
   "source": [
    "a = 841.25\n",
    "b = 2 * a\n",
    "c = 12\n",
    "d = c * b\n",
    "d"
   ]
  },
  {
   "cell_type": "markdown",
   "id": "60cb0f83",
   "metadata": {},
   "source": [
    "It is common for some people in the course to ask about style in terms of writing code. It helps to follow common style pattern when you are collaborating with others. PEP 8 is the official style guide for Python, but it doesn't contain a lot of advanced vocabulary. Check out [the PEP 8 section Naming Conventions](https://peps.python.org/pep-0008/#naming-conventions) if you plan to work with Python beyond this course."
   ]
  },
  {
   "cell_type": "markdown",
   "id": "2ab2fc4b",
   "metadata": {},
   "source": [
    "### Task 3 📍"
   ]
  },
  {
   "cell_type": "markdown",
   "id": "e519bf9e",
   "metadata": {
    "tags": []
   },
   "source": [
    "Consider the time interval between midnight January 1, 2012 and midnight January 1, 2022. We will guide you to calculating the number of seconds in this particular decade using descriptive variable names and intermediate steps.\n",
    "\n",
    "For this task,\n",
    " 1. Assign `number_of_days` to be the total number of days in the above time interval. Note that there are three leap years in this span of this particular decade (2012, 2016, 2020). A non-leap year has 365 days and a leap year has 366 days. \n",
    " 2. Using `number_of_days`, assign the name `seconds_in_a_decade` to the number of seconds between midnight January 1, 2012 and midnight January 1, 2022. You are welcome to define and use more intermediate variables in the calculation of `seconds_in_a_decade`."
   ]
  },
  {
   "cell_type": "code",
   "execution_count": null,
   "id": "48368a34",
   "metadata": {
    "execution": {
     "iopub.execute_input": "2022-08-24T09:00:52.996496Z",
     "iopub.status.busy": "2022-08-24T09:00:52.995691Z",
     "iopub.status.idle": "2022-08-24T09:00:53.002412Z",
     "shell.execute_reply": "2022-08-24T09:00:53.001420Z"
    },
    "tags": []
   },
   "outputs": [],
   "source": [
    "number_of_days = ...\n",
    "seconds_in_a_decade = (number_of_days * \n",
    "                       hours_per_day * \n",
    "                       minutes_per_hour * \n",
    "                       ...\n",
    "seconds_in_a_decade"
   ]
  },
  {
   "cell_type": "code",
   "execution_count": null,
   "id": "0667a6c0",
   "metadata": {
    "deletable": false,
    "editable": false
   },
   "outputs": [],
   "source": [
    "grader.check(\"task_3\")"
   ]
  },
  {
   "cell_type": "markdown",
   "id": "3edbd60a",
   "metadata": {},
   "source": [
    "## Comments"
   ]
  },
  {
   "cell_type": "markdown",
   "id": "1c535ac6",
   "metadata": {},
   "source": [
    "You may have noticed the first line in the code cell that initializes Otter:\n",
    "\n",
    "    # Initialize Otter\n",
    "    \n",
    "This is called a *comment*. It doesn't make anything happen in Python; Python ignores anything on a line after a `#`.  Instead, it's there to communicate something about the code to you, the human. Comments are extremely useful, but keep them to a minimum when using notebooks. Instead, utilize the Markdown cells to explain what your code is doing.\n",
    "\n",
    "<img src=\"http://imgs.xkcd.com/comics/future_self.png\" alt=\"A comic showing a conversation between a programmer and their future self through comments.\">\n",
    "Image Source: <a href=\"http://imgs.xkcd.com/comics/future_self.png\">imgs.xkcd.com</a>"
   ]
  },
  {
   "cell_type": "markdown",
   "id": "1b78ecfd",
   "metadata": {},
   "source": [
    "## A Physics Experiment"
   ]
  },
  {
   "cell_type": "markdown",
   "id": "23234003",
   "metadata": {},
   "source": [
    "On the Apollo 15 mission to the Moon, astronaut David Scott famously replicated Galileo's physics experiment in which he showed that gravity accelerates objects of different mass at the same rate. Because there is no air resistance for a falling object on the surface of the Moon, even two objects with very different masses and densities should fall at the same rate. David Scott compared a feather and a hammer.\n",
    "\n",
    "Run the following cell to watch a video of the experiment."
   ]
  },
  {
   "cell_type": "code",
   "execution_count": null,
   "id": "5e3e6545",
   "metadata": {
    "execution": {
     "iopub.execute_input": "2022-08-24T09:00:53.049600Z",
     "iopub.status.busy": "2022-08-24T09:00:53.049063Z",
     "iopub.status.idle": "2022-08-24T09:00:53.111512Z",
     "shell.execute_reply": "2022-08-24T09:00:53.110649Z"
    }
   },
   "outputs": [],
   "source": [
    "from IPython.display import YouTubeVideo\n",
    "# The original URL is: \n",
    "# https://www.youtube.com/watch?v=U7db6ZeLR5s\n",
    "\n",
    "YouTubeVideo(\"U7db6ZeLR5s\")"
   ]
  },
  {
   "cell_type": "markdown",
   "id": "33ca1cd4",
   "metadata": {},
   "source": [
    "Here's the transcript of what was said in the original video:\n",
    "\n",
    "**167:22:06 Scott**: Well, in my left hand, I have a feather; in my right hand, a hammer. And I guess one of the reasons we got here today was because of a gentleman named Galileo, a long time ago, who made a rather significant discovery about falling objects in gravity fields. And we thought where would be a better place to confirm his findings than on the Moon. And so we thought we'd try it here for you. The feather happens to be, appropriately, a falcon feather for our Falcon. And I'll drop the two of them here and, hopefully, they'll hit the ground at the same time. \n",
    "\n",
    "**167:22:43 Scott**: How about that!\n",
    "\n",
    "**167:22:45 Allen**: How about that! (Applause in Houston)\n",
    "\n",
    "**167:22:46 Scott**: Which proves that Mr. Galileo was correct in his findings."
   ]
  },
  {
   "cell_type": "markdown",
   "id": "c0fa5db9",
   "metadata": {},
   "source": [
    "Using this footage, we can also attempt to confirm another famous bit of physics: Newton's law of universal gravitation. Newton's laws predict that any object dropped near the surface of the Moon should fall\n",
    "\n",
    "$$\\frac{1}{2} G \\frac{M}{R^2} t^2 \\text{ meters}$$\n",
    "\n",
    "after $t$ seconds, where $G$ is a universal constant, $M$ is the moon's mass in kilograms, and $R$ is the moon's radius in meters.  So, if we know $G$, $M$, and $R$, then Newton's laws let us predict how far an object will fall over any amount of time.\n",
    "\n",
    "To verify the accuracy of this law, we will calculate the difference between the predicted distance the hammer drops and the actual distance.  (If they are different, it might be because Newton's laws are wrong, or because our measurements are imprecise, or because there are other factors affecting the hammer for which we haven't accounted.)\n",
    "\n",
    "Someone studied the video and estimated that the hammer was dropped 113 cm from the surface. Counting frames in the video, the hammer falls for 1.2 seconds (36 frames)."
   ]
  },
  {
   "cell_type": "markdown",
   "id": "00b0c6b7",
   "metadata": {},
   "source": [
    "### Task 4 📍"
   ]
  },
  {
   "cell_type": "markdown",
   "id": "6014b574",
   "metadata": {},
   "source": [
    "Complete the code in the next cell to name two variables (`time`, `estimated_distance_m`) using the information from the estimated values above. You'll use this information later. Notice that the distance estimate is given in cm, but it needs to be converted to meters."
   ]
  },
  {
   "cell_type": "code",
   "execution_count": null,
   "id": "b60dd46f",
   "metadata": {
    "execution": {
     "iopub.execute_input": "2022-08-24T09:00:53.115575Z",
     "iopub.status.busy": "2022-08-24T09:00:53.115282Z",
     "iopub.status.idle": "2022-08-24T09:00:53.119501Z",
     "shell.execute_reply": "2022-08-24T09:00:53.118650Z"
    },
    "tags": []
   },
   "outputs": [],
   "source": [
    "# The duration of the fall in the experiment, in seconds.\n",
    "time = ...\n",
    "\n",
    "# The estimated distance the hammer actually fell, in meters.\n",
    "estimated_distance_m = ..."
   ]
  },
  {
   "cell_type": "code",
   "execution_count": null,
   "id": "948feb51",
   "metadata": {
    "deletable": false,
    "editable": false
   },
   "outputs": [],
   "source": [
    "grader.check(\"task_4\")"
   ]
  },
  {
   "cell_type": "markdown",
   "id": "6beb49ee",
   "metadata": {},
   "source": [
    "### Task 5 📍"
   ]
  },
  {
   "cell_type": "markdown",
   "id": "3f5ac27f",
   "metadata": {},
   "source": [
    "Now, complete the code in the next cell to compute the difference between the predicted and estimated distances (in meters) that the hammer fell in this experiment.\n",
    "\n",
    "This just means translating the formula above ($\\frac{1}{2}G\\frac{M}{R^2}t^2$) into Python code.  You'll have to replace each variable in the math formula with the name we gave that number in Python code. Try to use variables you've already defined in the previous task."
   ]
  },
  {
   "cell_type": "code",
   "execution_count": null,
   "id": "9561930f",
   "metadata": {
    "execution": {
     "iopub.execute_input": "2022-08-24T09:00:53.169812Z",
     "iopub.status.busy": "2022-08-24T09:00:53.169518Z",
     "iopub.status.idle": "2022-08-24T09:00:53.176265Z",
     "shell.execute_reply": "2022-08-24T09:00:53.175494Z"
    },
    "tags": []
   },
   "outputs": [],
   "source": [
    "# First, we've written down the values of the 3 universal constants \n",
    "# that show up in Newton's formula.\n",
    "\n",
    "# G, the universal constant measuring the strength of gravity.\n",
    "gravity_constant = 6.674 * 10**-11 \n",
    "\n",
    "# M, the moon's mass, in kilograms.\n",
    "moon_mass_kg = 7.34767309 * 10**22 \n",
    "\n",
    "# R, the radius of the moon, in meters.\n",
    "moon_radius_m = 1.737 * 10**6 \n",
    "\n",
    "# The distance the hammer should have fallen \n",
    "# over the duration of the fall, in meters, \n",
    "# according to Newton's law of gravity.  \n",
    "# The text above describes the formula\n",
    "# for this distance given by Newton's law.\n",
    "predicted_distance_m = ((1/2) * \n",
    "                        gravity_constant * \n",
    "                        (moon_mass_kg / moon_radius_m**2) * \n",
    "                        ...\n",
    "\n",
    "# Here we've computed the difference \n",
    "# between the predicted fall distance and the distance we actually measured.\n",
    "# If you've filled in the above code, this should just work.\n",
    "difference = predicted_distance_m - estimated_distance_m\n",
    "difference"
   ]
  },
  {
   "cell_type": "code",
   "execution_count": null,
   "id": "32479bda",
   "metadata": {
    "deletable": false,
    "editable": false
   },
   "outputs": [],
   "source": [
    "grader.check(\"task_5\")"
   ]
  },
  {
   "cell_type": "markdown",
   "id": "e408d352",
   "metadata": {},
   "source": [
    "## 4. Calling Functions"
   ]
  },
  {
   "cell_type": "markdown",
   "id": "a0e7dd31",
   "metadata": {},
   "source": [
    "The most common way to combine or manipulate values in Python is by calling functions. As a preview, functions essentially name a logical flow of code. Python comes with many built-in functions that perform common operations.\n",
    "\n",
    "For example, the absolute value function `abs` takes a single number as its argument and returns the absolute value of that number. Run the next two cells that contain a function call using the absolute value function `abs`."
   ]
  },
  {
   "cell_type": "code",
   "execution_count": null,
   "id": "844174b1",
   "metadata": {
    "execution": {
     "iopub.execute_input": "2022-08-24T09:00:53.204405Z",
     "iopub.status.busy": "2022-08-24T09:00:53.204161Z",
     "iopub.status.idle": "2022-08-24T09:00:53.209302Z",
     "shell.execute_reply": "2022-08-24T09:00:53.208527Z"
    }
   },
   "outputs": [],
   "source": [
    "abs(5)"
   ]
  },
  {
   "cell_type": "code",
   "execution_count": null,
   "id": "336408c9",
   "metadata": {
    "execution": {
     "iopub.execute_input": "2022-08-24T09:00:53.212432Z",
     "iopub.status.busy": "2022-08-24T09:00:53.212172Z",
     "iopub.status.idle": "2022-08-24T09:00:53.217514Z",
     "shell.execute_reply": "2022-08-24T09:00:53.216754Z"
    }
   },
   "outputs": [],
   "source": [
    "abs(-5)"
   ]
  },
  {
   "cell_type": "markdown",
   "id": "921d89c3",
   "metadata": {},
   "source": [
    "Note that `abs` is the name of the function, but `abs(5)` is the call expression because it sends an input of `5` to the function to be evaluated and the function returns a value. You will learn more about functions later in the course. For now, just practice using ones that are already defined."
   ]
  },
  {
   "cell_type": "markdown",
   "id": "c0e0ef26",
   "metadata": {},
   "source": [
    "### Computing Walking Distances"
   ]
  },
  {
   "cell_type": "markdown",
   "id": "323ed399",
   "metadata": {},
   "source": [
    "An individual is on the corner of 7th Avenue and 42nd Street in Midtown Manhattan, and they want to know far they would have to walk to get to Gramercy School on the corner of 10th Avenue and 34th Street.\n",
    "\n",
    "They can't cut across blocks diagonally, since there are buildings in the way.  They have to walk along the sidewalks.  Using the map below, they see they would have to walk 3 avenues (long blocks) and 8 streets (short blocks).  In terms of the given numbers, they computed 3 as the difference between 7 and 10, *in absolute value*, and 8 similarly.  \n",
    "\n",
    "They also know that blocks in Manhattan are all about 80m by 274m (avenues are farther apart than streets).  So in total, they would have to walk $(80 \\times |42 - 34| + 274 \\times |7 - 10|)$ meters to get to the park.\n",
    "\n",
    "<img src=\"map.jpg\" alt=\"An aerial view of Manhattan with the measurement information overlaid on the map.\">"
   ]
  },
  {
   "cell_type": "markdown",
   "id": "1b8615a7",
   "metadata": {},
   "source": [
    "### Task 6 📍"
   ]
  },
  {
   "cell_type": "markdown",
   "id": "a4097cfd",
   "metadata": {},
   "source": [
    "Call the `abs` function with the input value named `difference`. This should name `num_avenues_away` in the next cell so that the cell calculates the distance they must walk and gives it the name `manhattan_distance`. Note that everything else has been filled in for you."
   ]
  },
  {
   "cell_type": "code",
   "execution_count": null,
   "id": "047b79c5",
   "metadata": {
    "execution": {
     "iopub.execute_input": "2022-08-24T09:00:53.230346Z",
     "iopub.status.busy": "2022-08-24T09:00:53.229542Z",
     "iopub.status.idle": "2022-08-24T09:00:53.236217Z",
     "shell.execute_reply": "2022-08-24T09:00:53.235083Z"
    },
    "tags": []
   },
   "outputs": [],
   "source": [
    "# Here's the number of streets away:\n",
    "num_streets_away = abs(42-34)\n",
    "\n",
    "# Compute the number of avenues away in a similar way:\n",
    "difference = 7 - 10\n",
    "num_avenues_away = ...\n",
    "\n",
    "street_length_m = 80\n",
    "avenue_length_m = 274\n",
    "\n",
    "# Now we compute the total distance Chunhua must walk.\n",
    "manhattan_distance = street_length_m*num_streets_away + avenue_length_m*num_avenues_away\n",
    "\n",
    "# We've included this line so that you see the distance you've computed \n",
    "# when you run this cell.  \n",
    "# You don't need to change it, but you can if you want.\n",
    "manhattan_distance"
   ]
  },
  {
   "cell_type": "code",
   "execution_count": null,
   "id": "37891e36",
   "metadata": {
    "deletable": false,
    "editable": false
   },
   "outputs": [],
   "source": [
    "grader.check(\"task_6\")"
   ]
  },
  {
   "cell_type": "markdown",
   "id": "3d059e5b",
   "metadata": {},
   "source": [
    "### Multiple Arguments"
   ]
  },
  {
   "cell_type": "markdown",
   "id": "3ecd06b6",
   "metadata": {},
   "source": [
    "Some functions take multiple arguments, separated by commas. For example, the built-in `max` function returns the maximum argument passed to it. Run the following cell to see how to make a function call using multiple arguments. "
   ]
  },
  {
   "cell_type": "code",
   "execution_count": null,
   "id": "39056818",
   "metadata": {
    "execution": {
     "iopub.execute_input": "2022-08-24T09:00:53.273423Z",
     "iopub.status.busy": "2022-08-24T09:00:53.273171Z",
     "iopub.status.idle": "2022-08-24T09:00:53.278436Z",
     "shell.execute_reply": "2022-08-24T09:00:53.277696Z"
    }
   },
   "outputs": [],
   "source": [
    "max(2, -3, 4, -5)"
   ]
  },
  {
   "cell_type": "markdown",
   "id": "1b4194a9",
   "metadata": {
    "tags": []
   },
   "source": [
    "## Understanding Nested Expressions"
   ]
  },
  {
   "cell_type": "markdown",
   "id": "42565223",
   "metadata": {},
   "source": [
    "Function calls and arithmetic expressions can themselves contain expressions. You saw an example in the last question:\n",
    "\n",
    "    abs(42-34)\n",
    "\n",
    "has 2 number expressions in a subtraction expression in a function call expression.\n",
    "\n",
    "Nested expressions can turn into complicated-looking code. However, the way in which complicated expressions break down is very regular.\n",
    "\n",
    "Suppose we are interested in human heights that are very unusual.  We'll say that a height is unusual to the extent that it's far away on the number line from the average human height.  [An estimate](http://press.endocrine.org/doi/full/10.1210/jcem.86.9.7875?ck=nck&) of the average adult human height (averaging, we hope, over all humans on Earth today) is 1.688 meters.\n",
    "\n",
    "So if an individual named Kayla is 1.21 meters tall, then their height is $|1.21 - 1.688|$, or $0.478$, meters away from the average.  Here's a picture of that:\n",
    "\n",
    "<img src=\"numberline_0.png\" alt=\"A number line showing the distance as the height.\">\n",
    "\n",
    "And here's how we'd write that in one line of Python code:"
   ]
  },
  {
   "cell_type": "code",
   "execution_count": null,
   "id": "13aeba08",
   "metadata": {
    "execution": {
     "iopub.execute_input": "2022-08-24T09:00:53.281994Z",
     "iopub.status.busy": "2022-08-24T09:00:53.281707Z",
     "iopub.status.idle": "2022-08-24T09:00:53.287047Z",
     "shell.execute_reply": "2022-08-24T09:00:53.286293Z"
    },
    "tags": []
   },
   "outputs": [],
   "source": [
    "abs(1.21 - 1.688)"
   ]
  },
  {
   "cell_type": "markdown",
   "id": "2ae4b191",
   "metadata": {},
   "source": [
    "What's going on here? `abs` takes just one argument, so the stuff inside the parentheses is all part of that *single argument*.  Specifically, the argument is the value of the expression `1.21 - 1.688`.  The value of that expression is `-.478`.  That value is the argument to `abs`.  The absolute value of that is `.478`, so `.478` is the value of the full expression `abs(1.21 - 1.688)`.\n",
    "\n",
    "Picture simplifying the expression in several steps:\n",
    "\n",
    "1. `abs(1.21 - 1.688)`\n",
    "2. `abs(-0.478)`\n",
    "3. `0.478`\n",
    "\n",
    "In fact, that's basically what Python does to compute the value of the expression!"
   ]
  },
  {
   "cell_type": "markdown",
   "id": "b4417f06",
   "metadata": {},
   "source": [
    "### Task 7 📍"
   ]
  },
  {
   "cell_type": "markdown",
   "id": "a6bfd26f",
   "metadata": {},
   "source": [
    "Say that Paola's height is 1.76 meters.  In the next cell, use `abs` to compute the absolute value of the difference between Paola's height and the average human height.  Give that value the name `paola_distance_from_average_m`.\n",
    "\n",
    "<img src=\"numberline_1.png\" alt=\"A number line visualizing the distance between Paola's height and an average human height.\">"
   ]
  },
  {
   "cell_type": "code",
   "execution_count": null,
   "id": "502f6aa6",
   "metadata": {
    "execution": {
     "iopub.execute_input": "2022-08-24T09:00:53.292668Z",
     "iopub.status.busy": "2022-08-24T09:00:53.292384Z",
     "iopub.status.idle": "2022-08-24T09:00:53.297647Z",
     "shell.execute_reply": "2022-08-24T09:00:53.296840Z"
    },
    "tags": []
   },
   "outputs": [],
   "source": [
    "paola_distance_from_average_m = ...\n",
    "paola_distance_from_average_m"
   ]
  },
  {
   "cell_type": "code",
   "execution_count": null,
   "id": "75ea6dd2",
   "metadata": {
    "deletable": false,
    "editable": false
   },
   "outputs": [],
   "source": [
    "grader.check(\"task_7\")"
   ]
  },
  {
   "cell_type": "markdown",
   "id": "ef7f1690",
   "metadata": {},
   "source": [
    "### More Nesting"
   ]
  },
  {
   "cell_type": "markdown",
   "id": "da81f424",
   "metadata": {},
   "source": [
    "Now, say that we want to compute the more unusual of the two heights.  We'll use the function `max`, which (again) takes two numbers as arguments and returns the larger of the two arguments.  Combining that with the `abs` function, we can compute the larger distance from average among the two heights. Just read through and run the following cell. Note that you are not expected to know how this more complex `print` statement worked, but it is worth spending a few minutes trying to understand."
   ]
  },
  {
   "cell_type": "code",
   "execution_count": null,
   "id": "07a3e710",
   "metadata": {
    "execution": {
     "iopub.execute_input": "2022-08-24T09:00:53.317854Z",
     "iopub.status.busy": "2022-08-24T09:00:53.317556Z",
     "iopub.status.idle": "2022-08-24T09:00:53.322768Z",
     "shell.execute_reply": "2022-08-24T09:00:53.321944Z"
    }
   },
   "outputs": [],
   "source": [
    "kayla_height_m = 1.21\n",
    "paola_height_m = 1.76\n",
    "average_adult_height_m = 1.688\n",
    "\n",
    "# The larger distance from the average human height, among the two heights:\n",
    "larger_distance_m = max(abs(kayla_height_m - average_adult_height_m), abs(paola_height_m - average_adult_height_m))\n",
    "\n",
    "# Print out our results in a nice readable format:\n",
    "print(\"The larger distance from the average height among these two people is\", \n",
    "      larger_distance_m, \n",
    "      \"meters.\")"
   ]
  },
  {
   "cell_type": "markdown",
   "id": "c3e10a94",
   "metadata": {},
   "source": [
    "The line where `larger_distance_m` is computed looks complicated, but we can break it down into simpler components just like we did before.\n",
    "\n",
    "The basic recipe is to repeatedly simplify small parts of the expression:\n",
    "* **Basic expressions:** Start with expressions whose values we know, like names or numbers.\n",
    "    - Examples: `paola_height_m` or `5`.\n",
    "* **Find the next simplest group of expressions:** Look for basic expressions that are directly connected to each other. This can be by arithmetic or as arguments to a function call. \n",
    "    - Example: `kayla_height_m - average_adult_height_m`.\n",
    "* **Evaluate that group:** Evaluate the arithmetic expression or function call. Use the value computed to replace the group of expressions.  \n",
    "    - Example: `kayla_height_m - average_adult_height_m` becomes `-.478`.\n",
    "* **Repeat:** Continue this process, using the value of the previously-evaluated expression as a new basic expression. Stop when we've evaluated the entire expression.\n",
    "    - Example: `abs(-.478)` becomes `.478`, and `max(.478, .072)` becomes `.478`.\n",
    "\n",
    "You can run the next cell to see a slideshow of that process."
   ]
  },
  {
   "cell_type": "code",
   "execution_count": null,
   "id": "7d2cd874",
   "metadata": {
    "execution": {
     "iopub.execute_input": "2022-08-24T09:00:53.326444Z",
     "iopub.status.busy": "2022-08-24T09:00:53.325708Z",
     "iopub.status.idle": "2022-08-24T09:00:53.331948Z",
     "shell.execute_reply": "2022-08-24T09:00:53.330964Z"
    }
   },
   "outputs": [],
   "source": [
    "from IPython.display import IFrame\n",
    "IFrame('https://docs.google.com/presentation/d/e/2PACX-1vTiIUOa9tP4pHPesrI8p2TCp8WCOJtTb3usOacQFPfkEfvQMmX-JYEW3OnBoTmQEJWAHdBP6Mvp053G/embed?start=false&loop=false&delayms=3000', 800, 600)"
   ]
  },
  {
   "cell_type": "markdown",
   "id": "01f0ddc3",
   "metadata": {},
   "source": [
    "### Task 8 📍"
   ]
  },
  {
   "cell_type": "markdown",
   "id": "d18158ac",
   "metadata": {},
   "source": [
    "Given the heights of players from the Golden State Warriors, write an expression that computes the smallest difference between any of the three heights. Your expression shouldn't have any numbers in it, only function calls and the names `klay`, `steph`, and `moses`. Give the value of your expression the name `min_height_difference`.\n",
    "\n",
    "We recommend that you compute the absolute difference between each pair of names that represent heights using `abs` and then find the smallest of those 3 absolute differences using `min`."
   ]
  },
  {
   "cell_type": "code",
   "execution_count": null,
   "id": "a44fb169",
   "metadata": {
    "execution": {
     "iopub.execute_input": "2022-08-24T09:00:53.335656Z",
     "iopub.status.busy": "2022-08-24T09:00:53.335357Z",
     "iopub.status.idle": "2022-08-24T09:00:53.340962Z",
     "shell.execute_reply": "2022-08-24T09:00:53.340039Z"
    },
    "tags": []
   },
   "outputs": [],
   "source": [
    "# The three players' heights, in inches\n",
    "klay =  78 # Klay Thompson is 6'6\"\n",
    "steph = 74 # Steph Curry is 6'2\"\n",
    "moses = 77 # Moses Moody is 6'5\"\n",
    "\n",
    "min_height_difference = ...\n",
    "min_height_difference\n",
    "print(\"The smallest difference between any of the three heights is\", \n",
    "      min_height_difference, \n",
    "      \"inche(s).\")"
   ]
  },
  {
   "cell_type": "code",
   "execution_count": null,
   "id": "202883ed",
   "metadata": {
    "deletable": false,
    "editable": false
   },
   "outputs": [],
   "source": [
    "grader.check(\"task_8\")"
   ]
  },
  {
   "cell_type": "markdown",
   "id": "5f22f420",
   "metadata": {},
   "source": [
    "## Submitting Your Lab to Canvas"
   ]
  },
  {
   "cell_type": "markdown",
   "id": "0de659ce",
   "metadata": {},
   "source": [
    "Once you have finished working on the lab questions, prepare to submit your work in Canvas by completing the following steps:\n",
    "\n",
    "1. Double-check that you have responded to all the open-response questions.\n",
    "2. Double-check that you have run the code cell near the end of the notebook that contains the command `grader.check_all()`. This command will run all of the run tests on all your responses to the code questions.\n",
    "3. Select the menu item `File` and `Save and Checkpoint` in the notebook's Toolbar to save your work and create a specific checkpoint in the notebook's work history.\n",
    "4. Select the menu items `File`, `Save and Export Notebook As ...`, and `HTML` in the notebook's Toolbar to download an HTML version of this notebook file.\n",
    "5. In the related Canvas Assignment, click Start Assignment or New Attempt to upload the downloaded HTML file."
   ]
  },
  {
   "cell_type": "markdown",
   "id": "c8767024",
   "metadata": {
    "deletable": false,
    "editable": false
   },
   "source": [
    "---\n",
    "\n",
    "To double-check your work, the cell below will rerun all of the autograder tests."
   ]
  },
  {
   "cell_type": "code",
   "execution_count": null,
   "id": "9eaf6270",
   "metadata": {
    "deletable": false,
    "editable": false
   },
   "outputs": [],
   "source": [
    "grader.check_all()"
   ]
  }
 ],
 "metadata": {
  "kernelspec": {
   "display_name": "Python 3 (ipykernel)",
   "language": "python",
   "name": "python3"
  },
  "language_info": {
   "codemirror_mode": {
    "name": "ipython",
    "version": 3
   },
   "file_extension": ".py",
   "mimetype": "text/x-python",
   "name": "python",
   "nbconvert_exporter": "python",
   "pygments_lexer": "ipython3",
   "version": "3.10.5"
  },
  "otter": {
   "tests": {
    "task_2": {
     "name": "task_2",
     "points": 1,
     "suites": [
      {
       "cases": [
        {
         "code": ">>> \n>>> 'eleven' in globals()\nTrue",
         "failure_message": "❌ It doesn't seem that you have named an expressoin as eleven.",
         "hidden": false,
         "locked": false,
         "points": 0.5,
         "success_message": "✅ Great work Python recognizes eleven as a name!"
        },
        {
         "code": ">>> \n>>> eleven == 11\nTrue",
         "failure_message": "❌ It doesn't seem that you have assigned a value of 11 to the name eleven.",
         "hidden": false,
         "locked": false,
         "points": 0.5,
         "success_message": "✅ The name eleven represents the numerical value 11!"
        }
       ],
       "scored": true,
       "setup": "",
       "teardown": "",
       "type": "doctest"
      }
     ]
    },
    "task_3": {
     "name": "task_3",
     "points": 1,
     "suites": [
      {
       "cases": [
        {
         "code": ">>> \n>>> seconds_in_a_decade != ...\nTrue",
         "failure_message": "❌ Replace the ellipsis next to seconds_in_a_decade with an expression.",
         "hidden": false,
         "locked": false,
         "points": 0
        },
        {
         "code": ">>> \n>>> number_of_days != ...\nTrue",
         "failure_message": "❌ Replace the ellipsis next to number_of_days with an expression.",
         "hidden": false,
         "locked": false,
         "points": 0
        },
        {
         "code": ">>> \n>>> 'number_of_days' in vars() and 'seconds_in_a_decade' in vars()\nTrue",
         "failure_message": "❌ Make sure you have run the cell that assigns a value to number_of_days and seconds_in_a_decade",
         "hidden": false,
         "locked": false,
         "points": 0
        },
        {
         "code": ">>> \n>>> number_of_days == 3653\nTrue",
         "failure_message": "❌ You don't have the correct number of days assigned to number_of_days. Remember that 3 of the 10 years are leap years",
         "hidden": false,
         "locked": false,
         "points": 0.5,
         "success_message": "✅ You have the correct number of days assigned to number_of_days!"
        },
        {
         "code": ">>> \n>>> seconds_in_a_decade == 315619200\nTrue",
         "failure_message": "❌ You don't have the correct number of seconds in a decade. Consider converting days to seconds.",
         "hidden": false,
         "locked": false,
         "points": 0.5,
         "success_message": "✅ You have the correct number of seconds in a decade!"
        }
       ],
       "scored": true,
       "setup": "",
       "teardown": "",
       "type": "doctest"
      }
     ]
    },
    "task_4": {
     "name": "task_4",
     "points": 1,
     "suites": [
      {
       "cases": [
        {
         "code": ">>> \n>>> time != ...\nTrue",
         "failure_message": "❌ Replace the ellipsis next to time with an expression.",
         "hidden": false,
         "locked": false,
         "points": 0
        },
        {
         "code": ">>> \n>>> estimated_distance_m != ...\nTrue",
         "failure_message": "❌ Replace the ellipsis next to estimated_distance_m with an expression.",
         "hidden": false,
         "locked": false,
         "points": 0
        },
        {
         "code": ">>> \n>>> time == 1.2\nTrue",
         "failure_message": "❌ You don't have the correct value for time. Doulbe check the estimated values in the above paragraph.",
         "hidden": false,
         "locked": false,
         "points": 0.5,
         "success_message": "✅ You have the correct value for time"
        },
        {
         "code": ">>> \n>>> estimated_distance_m != 113\nTrue",
         "failure_message": "❌ Remember to convert from cm to m.",
         "hidden": false,
         "locked": false,
         "points": 0
        },
        {
         "code": ">>> \n>>> estimated_distance_m == 1.13\nTrue",
         "failure_message": "❌ You don't have the correct value for estimated_distance_m.",
         "hidden": false,
         "locked": false,
         "points": 0.5,
         "success_message": "✅ You have the correct value for estimated_distance_m"
        }
       ],
       "scored": true,
       "setup": "",
       "teardown": "",
       "type": "doctest"
      }
     ]
    },
    "task_5": {
     "name": "task_5",
     "points": 1,
     "suites": [
      {
       "cases": [
        {
         "code": ">>> \n>>> predicted_distance_m != ...\nTrue",
         "failure_message": "❌ Replace the ellipsis next to predicted_distance_m with an expression.",
         "hidden": false,
         "locked": false,
         "points": 0
        },
        {
         "code": ">>> \n>>> round(predicted_distance_m, 5) == 1.17022\nTrue",
         "failure_message": "❌ You don't have the correct value for predicted_distance_m. Doulbe check the formula and use the named values we provided.",
         "hidden": false,
         "locked": false,
         "points": 0.5,
         "success_message": "✅ You have the correct value for predicted_distance_m"
        },
        {
         "code": ">>> \n>>> round(difference, 5)  == 0.04022\nTrue",
         "failure_message": "❌ You don't have the correct value for difference.",
         "hidden": false,
         "locked": false,
         "points": 0.5,
         "success_message": "✅ You have the correct value for difference."
        }
       ],
       "scored": true,
       "setup": "",
       "teardown": "",
       "type": "doctest"
      }
     ]
    },
    "task_6": {
     "name": "task_6",
     "points": 1,
     "suites": [
      {
       "cases": [
        {
         "code": ">>> \n>>> num_avenues_away != ...\nTrue",
         "failure_message": "❌ Replace the ellipsis next to num_avenues_away with an expression.",
         "hidden": false,
         "locked": false,
         "points": 0
        },
        {
         "code": ">>> \n>>> num_avenues_away != -3\nTrue",
         "failure_message": "❌ Make sure to use the abs.",
         "hidden": false,
         "locked": false,
         "points": 0
        },
        {
         "code": ">>> \n>>> num_avenues_away == 3\nTrue",
         "failure_message": "❌ You don't have the correct value for num_avenues_away.",
         "hidden": false,
         "locked": false,
         "points": 0.5,
         "success_message": "✅ You have the correct value for num_avenues_away."
        },
        {
         "code": ">>> \n>>> manhattan_distance == 1462\nTrue",
         "failure_message": "❌ You don't have the correct value for manhattan_distance.",
         "hidden": false,
         "locked": false,
         "points": 0.5,
         "success_message": "✅ You have the correct value for manhattan_distancey."
        }
       ],
       "scored": true,
       "setup": "",
       "teardown": "",
       "type": "doctest"
      }
     ]
    },
    "task_7": {
     "name": "task_7",
     "points": 1,
     "suites": [
      {
       "cases": [
        {
         "code": ">>> \n>>> predicted_distance_m != ...\nTrue",
         "failure_message": "❌ Replace the ellipsis next to predicted_distance_m with an expression.",
         "hidden": false,
         "locked": false,
         "points": 0
        },
        {
         "code": ">>> \n>>> round(paola_distance_from_average_m, 5) == 0.072\nTrue",
         "failure_message": "❌ You don't have the correct value for paola_distance_from_average_m. Try to use `abs` with a nested arithmetic expression as its input.",
         "hidden": false,
         "locked": false,
         "points": 1,
         "success_message": "✅ You have the correct value for paola_distance_from_average_m"
        }
       ],
       "scored": true,
       "setup": "",
       "teardown": "",
       "type": "doctest"
      }
     ]
    },
    "task_8": {
     "name": "task_8",
     "points": 1,
     "suites": [
      {
       "cases": [
        {
         "code": ">>> \n>>> min_height_difference != ...\nTrue",
         "failure_message": "❌ Replace the ellipsis next to min_height_difference with an expression.",
         "hidden": false,
         "locked": false,
         "points": 0
        },
        {
         "code": ">>> \n>>> round(min_height_difference, 5) == 1\nTrue",
         "failure_message": "❌ You don't have the correct value for min_height_difference.",
         "hidden": false,
         "locked": false,
         "points": 1,
         "success_message": "✅ You have the correct value for min_height_difference"
        }
       ],
       "scored": true,
       "setup": "",
       "teardown": "",
       "type": "doctest"
      }
     ]
    }
   }
  },
  "toc": {
   "base_numbering": 1,
   "nav_menu": {},
   "number_sections": false,
   "sideBar": true,
   "skip_h1_title": false,
   "title_cell": "Table of Contents",
   "title_sidebar": "Contents",
   "toc_cell": false,
   "toc_position": {},
   "toc_section_display": true,
   "toc_window_display": false
  },
  "toc-autonumbering": false,
  "toc-showcode": false,
  "toc-showmarkdowntxt": false,
  "toc-showtags": false
 },
 "nbformat": 4,
 "nbformat_minor": 5
}
